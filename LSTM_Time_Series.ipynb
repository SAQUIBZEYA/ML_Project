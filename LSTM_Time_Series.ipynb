{
  "nbformat": 4,
  "nbformat_minor": 0,
  "metadata": {
    "colab": {
      "name": "LSTM Time Series.ipynb",
      "provenance": [],
      "authorship_tag": "ABX9TyMSpIQZOLd69ZACvCiBsEzd",
      "include_colab_link": true
    },
    "kernelspec": {
      "name": "python3",
      "display_name": "Python 3"
    }
  },
  "cells": [
    {
      "cell_type": "markdown",
      "metadata": {
        "id": "view-in-github",
        "colab_type": "text"
      },
      "source": [
        "<a href=\"https://colab.research.google.com/github/SAQUIBZEYA/ML_Project/blob/master/LSTM_Time_Series.ipynb\" target=\"_parent\"><img src=\"https://colab.research.google.com/assets/colab-badge.svg\" alt=\"Open In Colab\"/></a>"
      ]
    },
    {
      "cell_type": "markdown",
      "metadata": {
        "id": "7E1e1dO2hdl6",
        "colab_type": "text"
      },
      "source": [
        "Loading and plotting a data"
      ]
    },
    {
      "cell_type": "code",
      "metadata": {
        "id": "N-pzXi-BhyXg",
        "colab_type": "code",
        "colab": {}
      },
      "source": [
        "import math\n",
        "import numpy as np\n",
        "import pandas as pd\n",
        "import matplotlib.pyplot as plt\n",
        "\n",
        "\n",
        "data=pd.read_csv(\"/content/international-airline-passengers.csv\")"
      ],
      "execution_count": 0,
      "outputs": []
    },
    {
      "cell_type": "code",
      "metadata": {
        "id": "tRBHVdeWhyfm",
        "colab_type": "code",
        "colab": {
          "base_uri": "https://localhost:8080/",
          "height": 195
        },
        "outputId": "f77f74a1-b69b-42b1-b12e-fcb69985bf4d"
      },
      "source": [
        "data.head()"
      ],
      "execution_count": 8,
      "outputs": [
        {
          "output_type": "execute_result",
          "data": {
            "text/html": [
              "<div>\n",
              "<style scoped>\n",
              "    .dataframe tbody tr th:only-of-type {\n",
              "        vertical-align: middle;\n",
              "    }\n",
              "\n",
              "    .dataframe tbody tr th {\n",
              "        vertical-align: top;\n",
              "    }\n",
              "\n",
              "    .dataframe thead th {\n",
              "        text-align: right;\n",
              "    }\n",
              "</style>\n",
              "<table border=\"1\" class=\"dataframe\">\n",
              "  <thead>\n",
              "    <tr style=\"text-align: right;\">\n",
              "      <th></th>\n",
              "      <th>Month</th>\n",
              "      <th>passengers_in_100_thousands</th>\n",
              "    </tr>\n",
              "  </thead>\n",
              "  <tbody>\n",
              "    <tr>\n",
              "      <th>0</th>\n",
              "      <td>1949-01</td>\n",
              "      <td>112</td>\n",
              "    </tr>\n",
              "    <tr>\n",
              "      <th>1</th>\n",
              "      <td>1949-02</td>\n",
              "      <td>118</td>\n",
              "    </tr>\n",
              "    <tr>\n",
              "      <th>2</th>\n",
              "      <td>1949-03</td>\n",
              "      <td>132</td>\n",
              "    </tr>\n",
              "    <tr>\n",
              "      <th>3</th>\n",
              "      <td>1949-04</td>\n",
              "      <td>129</td>\n",
              "    </tr>\n",
              "    <tr>\n",
              "      <th>4</th>\n",
              "      <td>1949-05</td>\n",
              "      <td>121</td>\n",
              "    </tr>\n",
              "  </tbody>\n",
              "</table>\n",
              "</div>"
            ],
            "text/plain": [
              "     Month  passengers_in_100_thousands\n",
              "0  1949-01                          112\n",
              "1  1949-02                          118\n",
              "2  1949-03                          132\n",
              "3  1949-04                          129\n",
              "4  1949-05                          121"
            ]
          },
          "metadata": {
            "tags": []
          },
          "execution_count": 8
        }
      ]
    },
    {
      "cell_type": "code",
      "metadata": {
        "id": "INb3RzqShw6I",
        "colab_type": "code",
        "colab": {
          "base_uri": "https://localhost:8080/",
          "height": 195
        },
        "outputId": "b58d84dd-b235-438b-fb34-80fe4c2033ab"
      },
      "source": [
        "data.tail()"
      ],
      "execution_count": 9,
      "outputs": [
        {
          "output_type": "execute_result",
          "data": {
            "text/html": [
              "<div>\n",
              "<style scoped>\n",
              "    .dataframe tbody tr th:only-of-type {\n",
              "        vertical-align: middle;\n",
              "    }\n",
              "\n",
              "    .dataframe tbody tr th {\n",
              "        vertical-align: top;\n",
              "    }\n",
              "\n",
              "    .dataframe thead th {\n",
              "        text-align: right;\n",
              "    }\n",
              "</style>\n",
              "<table border=\"1\" class=\"dataframe\">\n",
              "  <thead>\n",
              "    <tr style=\"text-align: right;\">\n",
              "      <th></th>\n",
              "      <th>Month</th>\n",
              "      <th>passengers_in_100_thousands</th>\n",
              "    </tr>\n",
              "  </thead>\n",
              "  <tbody>\n",
              "    <tr>\n",
              "      <th>139</th>\n",
              "      <td>1960-08</td>\n",
              "      <td>606</td>\n",
              "    </tr>\n",
              "    <tr>\n",
              "      <th>140</th>\n",
              "      <td>1960-09</td>\n",
              "      <td>508</td>\n",
              "    </tr>\n",
              "    <tr>\n",
              "      <th>141</th>\n",
              "      <td>1960-10</td>\n",
              "      <td>461</td>\n",
              "    </tr>\n",
              "    <tr>\n",
              "      <th>142</th>\n",
              "      <td>1960-11</td>\n",
              "      <td>390</td>\n",
              "    </tr>\n",
              "    <tr>\n",
              "      <th>143</th>\n",
              "      <td>1960-12</td>\n",
              "      <td>432</td>\n",
              "    </tr>\n",
              "  </tbody>\n",
              "</table>\n",
              "</div>"
            ],
            "text/plain": [
              "       Month  passengers_in_100_thousands\n",
              "139  1960-08                          606\n",
              "140  1960-09                          508\n",
              "141  1960-10                          461\n",
              "142  1960-11                          390\n",
              "143  1960-12                          432"
            ]
          },
          "metadata": {
            "tags": []
          },
          "execution_count": 9
        }
      ]
    },
    {
      "cell_type": "markdown",
      "metadata": {
        "id": "Z5aygFhpl1Lk",
        "colab_type": "text"
      },
      "source": [
        "Building the LSTM Model"
      ]
    },
    {
      "cell_type": "code",
      "metadata": {
        "id": "_0IqnZXYibuy",
        "colab_type": "code",
        "colab": {}
      },
      "source": [
        "from keras.models import Sequential\n",
        "from keras.layers.recurrent import LSTM\n",
        "from keras.layers.core import Dense, Activation, Dropout\n",
        "from sklearn.preprocessing import MinMaxScaler\n",
        "from sklearn.metrics import mean_squared_error\n",
        "from sklearn.utils import shuffle"
      ],
      "execution_count": 0,
      "outputs": []
    },
    {
      "cell_type": "markdown",
      "metadata": {
        "id": "p0SGwecdoPaz",
        "colab_type": "text"
      },
      "source": [
        "Data prepration"
      ]
    },
    {
      "cell_type": "code",
      "metadata": {
        "id": "s_erIUJDoRka",
        "colab_type": "code",
        "colab": {
          "base_uri": "https://localhost:8080/",
          "height": 101
        },
        "outputId": "53bfa6c7-9841-4e10-d0ed-1a2f92a18f94"
      },
      "source": [
        "ts_data=data.iloc[:,1]\n",
        "\n",
        "# We apply the MinMax scaler from sklearn\n",
        "# to normalize data in the (0, 1) interval.\n",
        "\n",
        "scaler=MinMaxScaler(feature_range=(0,1))\n",
        "dataset=scaler.fit_transform(pd.DataFrame(ts_data))\n",
        "dataset[0:5]"
      ],
      "execution_count": 17,
      "outputs": [
        {
          "output_type": "execute_result",
          "data": {
            "text/plain": [
              "array([[0.01544402],\n",
              "       [0.02702703],\n",
              "       [0.05405405],\n",
              "       [0.04826255],\n",
              "       [0.03281853]])"
            ]
          },
          "metadata": {
            "tags": []
          },
          "execution_count": 17
        }
      ]
    },
    {
      "cell_type": "markdown",
      "metadata": {
        "id": "-zUyO3asr8K7",
        "colab_type": "text"
      },
      "source": [
        "split the data into training and test"
      ]
    },
    {
      "cell_type": "code",
      "metadata": {
        "id": "A_vBDIbpr42J",
        "colab_type": "code",
        "colab": {}
      },
      "source": [
        "TRAIN_SIZE=0.70\n",
        "train_size=int(len(dataset)* TRAIN_SIZE)\n",
        "test_size=len(dataset)-train_size\n",
        "train,test=dataset[0:train_size, :],dataset[train_size:len(dataset), :]\n",
        "                                  "
      ],
      "execution_count": 0,
      "outputs": []
    },
    {
      "cell_type": "markdown",
      "metadata": {
        "id": "f5MkDfJht3Mc",
        "colab_type": "text"
      },
      "source": [
        "Get data into shape to use in keras"
      ]
    },
    {
      "cell_type": "code",
      "metadata": {
        "id": "MdW4V6Rsr5G5",
        "colab_type": "code",
        "colab": {}
      },
      "source": [
        "def create_dataset(dataset, window_size = 1):\n",
        "    data_X, data_Y = [], []\n",
        "    for i in range(len(dataset) - window_size - 1):\n",
        "        a = dataset[i:(i + window_size), 0]\n",
        "        data_X.append(a)\n",
        "        data_Y.append(dataset[i + window_size, 0])\n",
        "    return(np.array(data_X), np.array(data_Y))"
      ],
      "execution_count": 0,
      "outputs": []
    },
    {
      "cell_type": "code",
      "metadata": {
        "id": "4iRdO06Wr5FZ",
        "colab_type": "code",
        "colab": {
          "base_uri": "https://localhost:8080/",
          "height": 50
        },
        "outputId": "22f2dd32-bc6e-4cd4-d951-068d06587ba6"
      },
      "source": [
        "# Create test and training sets for one-step-ahead regression.\n",
        "\n",
        "window_size=10\n",
        "\n",
        "train_X,train_Y= create_dataset(train,window_size)\n",
        "test_X,test_Y =create_dataset(test,window_size)\n",
        "print(\"original training data shape:\")\n",
        "print(train_X.shape)"
      ],
      "execution_count": 21,
      "outputs": [
        {
          "output_type": "stream",
          "text": [
            "original training data shape:\n",
            "(89, 10)\n"
          ],
          "name": "stdout"
        }
      ]
    },
    {
      "cell_type": "code",
      "metadata": {
        "id": "toC5sdxwwe6D",
        "colab_type": "code",
        "colab": {
          "base_uri": "https://localhost:8080/",
          "height": 50
        },
        "outputId": "3bbe79fd-2059-4bd3-c5f9-ba35cf64df81"
      },
      "source": [
        "# Reshape the input data into appropriate form for Keras.\n",
        "\n",
        "train_X=np.reshape(train_X,(train_X.shape[0],1, train_X.shape[1]))\n",
        "test_X=np.reshape(test_X,(test_X.shape[0],1, test_X.shape[1]))\n",
        "print(\"New Training data shape:\")\n",
        "print(train_X.shape)"
      ],
      "execution_count": 22,
      "outputs": [
        {
          "output_type": "stream",
          "text": [
            "New Training data shape:\n",
            "(89, 1, 10)\n"
          ],
          "name": "stdout"
        }
      ]
    },
    {
      "cell_type": "markdown",
      "metadata": {
        "id": "wmYkcq3pzIi8",
        "colab_type": "text"
      },
      "source": [
        "Build simple LSTM model on training data"
      ]
    },
    {
      "cell_type": "code",
      "metadata": {
        "id": "NYDb97jrwfVc",
        "colab_type": "code",
        "colab": {
          "base_uri": "https://localhost:8080/",
          "height": 1000
        },
        "outputId": "36f00c18-e5e3-4585-d3f4-06cd90dd59d7"
      },
      "source": [
        "def fit_model(train_X,train_Y,window_size=10):\n",
        "  model=Sequential()\n",
        "  model.add(LSTM(4,input_shape=(1,window_size)))\n",
        "  model.add(Dense(1))\n",
        "  model.compile(loss=\"mean_squared_error\",optimizer='adam')\n",
        "  model.fit(train_X,train_Y,epochs=100,batch_size=1,verbose=2)\n",
        "  return(model)\n",
        "# Fit the first model.\n",
        "model1 = fit_model(train_X, train_Y, window_size)"
      ],
      "execution_count": 23,
      "outputs": [
        {
          "output_type": "stream",
          "text": [
            "Epoch 1/100\n",
            " - 1s - loss: 0.0336\n",
            "Epoch 2/100\n",
            " - 0s - loss: 0.0087\n",
            "Epoch 3/100\n",
            " - 0s - loss: 0.0061\n",
            "Epoch 4/100\n",
            " - 0s - loss: 0.0052\n",
            "Epoch 5/100\n",
            " - 0s - loss: 0.0047\n",
            "Epoch 6/100\n",
            " - 0s - loss: 0.0042\n",
            "Epoch 7/100\n",
            " - 0s - loss: 0.0041\n",
            "Epoch 8/100\n",
            " - 0s - loss: 0.0038\n",
            "Epoch 9/100\n",
            " - 0s - loss: 0.0034\n",
            "Epoch 10/100\n",
            " - 0s - loss: 0.0034\n",
            "Epoch 11/100\n",
            " - 0s - loss: 0.0033\n",
            "Epoch 12/100\n",
            " - 0s - loss: 0.0031\n",
            "Epoch 13/100\n",
            " - 0s - loss: 0.0030\n",
            "Epoch 14/100\n",
            " - 0s - loss: 0.0029\n",
            "Epoch 15/100\n",
            " - 0s - loss: 0.0029\n",
            "Epoch 16/100\n",
            " - 0s - loss: 0.0028\n",
            "Epoch 17/100\n",
            " - 0s - loss: 0.0026\n",
            "Epoch 18/100\n",
            " - 0s - loss: 0.0026\n",
            "Epoch 19/100\n",
            " - 0s - loss: 0.0025\n",
            "Epoch 20/100\n",
            " - 0s - loss: 0.0024\n",
            "Epoch 21/100\n",
            " - 0s - loss: 0.0022\n",
            "Epoch 22/100\n",
            " - 0s - loss: 0.0023\n",
            "Epoch 23/100\n",
            " - 0s - loss: 0.0023\n",
            "Epoch 24/100\n",
            " - 0s - loss: 0.0023\n",
            "Epoch 25/100\n",
            " - 0s - loss: 0.0022\n",
            "Epoch 26/100\n",
            " - 0s - loss: 0.0022\n",
            "Epoch 27/100\n",
            " - 0s - loss: 0.0022\n",
            "Epoch 28/100\n",
            " - 0s - loss: 0.0021\n",
            "Epoch 29/100\n",
            " - 0s - loss: 0.0021\n",
            "Epoch 30/100\n",
            " - 0s - loss: 0.0020\n",
            "Epoch 31/100\n",
            " - 0s - loss: 0.0021\n",
            "Epoch 32/100\n",
            " - 0s - loss: 0.0021\n",
            "Epoch 33/100\n",
            " - 0s - loss: 0.0019\n",
            "Epoch 34/100\n",
            " - 0s - loss: 0.0019\n",
            "Epoch 35/100\n",
            " - 0s - loss: 0.0020\n",
            "Epoch 36/100\n",
            " - 0s - loss: 0.0018\n",
            "Epoch 37/100\n",
            " - 0s - loss: 0.0018\n",
            "Epoch 38/100\n",
            " - 0s - loss: 0.0020\n",
            "Epoch 39/100\n",
            " - 0s - loss: 0.0018\n",
            "Epoch 40/100\n",
            " - 0s - loss: 0.0018\n",
            "Epoch 41/100\n",
            " - 0s - loss: 0.0020\n",
            "Epoch 42/100\n",
            " - 0s - loss: 0.0018\n",
            "Epoch 43/100\n",
            " - 0s - loss: 0.0017\n",
            "Epoch 44/100\n",
            " - 0s - loss: 0.0019\n",
            "Epoch 45/100\n",
            " - 0s - loss: 0.0019\n",
            "Epoch 46/100\n",
            " - 0s - loss: 0.0018\n",
            "Epoch 47/100\n",
            " - 0s - loss: 0.0019\n",
            "Epoch 48/100\n",
            " - 0s - loss: 0.0017\n",
            "Epoch 49/100\n",
            " - 0s - loss: 0.0018\n",
            "Epoch 50/100\n",
            " - 0s - loss: 0.0018\n",
            "Epoch 51/100\n",
            " - 0s - loss: 0.0017\n",
            "Epoch 52/100\n",
            " - 0s - loss: 0.0018\n",
            "Epoch 53/100\n",
            " - 0s - loss: 0.0017\n",
            "Epoch 54/100\n",
            " - 0s - loss: 0.0018\n",
            "Epoch 55/100\n",
            " - 0s - loss: 0.0018\n",
            "Epoch 56/100\n",
            " - 0s - loss: 0.0017\n",
            "Epoch 57/100\n",
            " - 0s - loss: 0.0017\n",
            "Epoch 58/100\n",
            " - 0s - loss: 0.0016\n",
            "Epoch 59/100\n",
            " - 0s - loss: 0.0018\n",
            "Epoch 60/100\n",
            " - 0s - loss: 0.0015\n",
            "Epoch 61/100\n",
            " - 0s - loss: 0.0016\n",
            "Epoch 62/100\n",
            " - 0s - loss: 0.0016\n",
            "Epoch 63/100\n",
            " - 0s - loss: 0.0016\n",
            "Epoch 64/100\n",
            " - 0s - loss: 0.0015\n",
            "Epoch 65/100\n",
            " - 0s - loss: 0.0017\n",
            "Epoch 66/100\n",
            " - 0s - loss: 0.0016\n",
            "Epoch 67/100\n",
            " - 0s - loss: 0.0015\n",
            "Epoch 68/100\n",
            " - 0s - loss: 0.0018\n",
            "Epoch 69/100\n",
            " - 0s - loss: 0.0017\n",
            "Epoch 70/100\n",
            " - 0s - loss: 0.0015\n",
            "Epoch 71/100\n",
            " - 0s - loss: 0.0015\n",
            "Epoch 72/100\n",
            " - 0s - loss: 0.0015\n",
            "Epoch 73/100\n",
            " - 0s - loss: 0.0015\n",
            "Epoch 74/100\n",
            " - 0s - loss: 0.0015\n",
            "Epoch 75/100\n",
            " - 0s - loss: 0.0015\n",
            "Epoch 76/100\n",
            " - 0s - loss: 0.0015\n",
            "Epoch 77/100\n",
            " - 0s - loss: 0.0015\n",
            "Epoch 78/100\n",
            " - 0s - loss: 0.0015\n",
            "Epoch 79/100\n",
            " - 0s - loss: 0.0015\n",
            "Epoch 80/100\n",
            " - 0s - loss: 0.0015\n",
            "Epoch 81/100\n",
            " - 0s - loss: 0.0016\n",
            "Epoch 82/100\n",
            " - 0s - loss: 0.0016\n",
            "Epoch 83/100\n",
            " - 0s - loss: 0.0014\n",
            "Epoch 84/100\n",
            " - 0s - loss: 0.0015\n",
            "Epoch 85/100\n",
            " - 0s - loss: 0.0015\n",
            "Epoch 86/100\n",
            " - 0s - loss: 0.0014\n",
            "Epoch 87/100\n",
            " - 0s - loss: 0.0015\n",
            "Epoch 88/100\n",
            " - 0s - loss: 0.0015\n",
            "Epoch 89/100\n",
            " - 0s - loss: 0.0015\n",
            "Epoch 90/100\n",
            " - 0s - loss: 0.0015\n",
            "Epoch 91/100\n",
            " - 0s - loss: 0.0015\n",
            "Epoch 92/100\n",
            " - 0s - loss: 0.0014\n",
            "Epoch 93/100\n",
            " - 0s - loss: 0.0014\n",
            "Epoch 94/100\n",
            " - 0s - loss: 0.0014\n",
            "Epoch 95/100\n",
            " - 0s - loss: 0.0015\n",
            "Epoch 96/100\n",
            " - 0s - loss: 0.0014\n",
            "Epoch 97/100\n",
            " - 0s - loss: 0.0014\n",
            "Epoch 98/100\n",
            " - 0s - loss: 0.0013\n",
            "Epoch 99/100\n",
            " - 0s - loss: 0.0014\n",
            "Epoch 100/100\n",
            " - 0s - loss: 0.0014\n"
          ],
          "name": "stdout"
        }
      ]
    },
    {
      "cell_type": "markdown",
      "metadata": {
        "id": "pGm7JMaL1fJq",
        "colab_type": "text"
      },
      "source": [
        "Prediuction and model evaluation"
      ]
    },
    {
      "cell_type": "code",
      "metadata": {
        "id": "jL6gWcN5zMkK",
        "colab_type": "code",
        "colab": {
          "base_uri": "https://localhost:8080/",
          "height": 50
        },
        "outputId": "d6835d0b-d4c5-48c7-aa86-f47ab29d30ff"
      },
      "source": [
        "def predict_and_score(model, X, Y):\n",
        "    # Make predictions on the original scale of the data.\n",
        "    pred = scaler.inverse_transform(model.predict(X))\n",
        "    # Prepare Y data to also be on the original scale for interpretability.\n",
        "    orig_data = scaler.inverse_transform([Y])\n",
        "    # Calculate RMSE.\n",
        "    score = math.sqrt(mean_squared_error(orig_data[0], pred[:, 0]))\n",
        "    return(score, pred)\n",
        "\n",
        "rmse_train, train_predict = predict_and_score(model1, train_X, train_Y)\n",
        "rmse_test, test_predict = predict_and_score(model1, test_X, test_Y)\n",
        "\n",
        "print(\"Training data score: %.2f RMSE\" % rmse_train)\n",
        "print(\"Test data score: %.2f RMSE\" % rmse_test)"
      ],
      "execution_count": 24,
      "outputs": [
        {
          "output_type": "stream",
          "text": [
            "Training data score: 20.11 RMSE\n",
            "Test data score: 38.86 RMSE\n"
          ],
          "name": "stdout"
        }
      ]
    }
  ]
}