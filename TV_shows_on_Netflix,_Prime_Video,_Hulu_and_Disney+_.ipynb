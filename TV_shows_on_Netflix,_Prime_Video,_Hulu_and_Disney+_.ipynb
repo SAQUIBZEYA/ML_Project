{
  "nbformat": 4,
  "nbformat_minor": 0,
  "metadata": {
    "colab": {
      "name": "TV shows on Netflix, Prime Video, Hulu and Disney+ .ipynb",
      "provenance": [],
      "authorship_tag": "ABX9TyNEki6ANoLhTSte3+rUzenz",
      "include_colab_link": true
    },
    "kernelspec": {
      "name": "python3",
      "display_name": "Python 3"
    }
  },
  "cells": [
    {
      "cell_type": "markdown",
      "metadata": {
        "id": "view-in-github",
        "colab_type": "text"
      },
      "source": [
        "<a href=\"https://colab.research.google.com/github/SAQUIBZEYA/ML_Project/blob/master/TV_shows_on_Netflix%2C_Prime_Video%2C_Hulu_and_Disney%2B_.ipynb\" target=\"_parent\"><img src=\"https://colab.research.google.com/assets/colab-badge.svg\" alt=\"Open In Colab\"/></a>"
      ]
    },
    {
      "cell_type": "code",
      "metadata": {
        "id": "K9nrVJJpAB5A",
        "colab_type": "code",
        "outputId": "2f318c2c-c57f-4c21-b3c3-5d0fa064c484",
        "colab": {
          "base_uri": "https://localhost:8080/",
          "height": 70
        }
      },
      "source": [
        "import numpy as np\n",
        "import pandas as pd\n",
        "import matplotlib.pyplot as plt\n",
        "import seaborn as sns\n"
      ],
      "execution_count": 1,
      "outputs": [
        {
          "output_type": "stream",
          "text": [
            "/usr/local/lib/python3.6/dist-packages/statsmodels/tools/_testing.py:19: FutureWarning: pandas.util.testing is deprecated. Use the functions in the public API at pandas.testing instead.\n",
            "  import pandas.util.testing as tm\n"
          ],
          "name": "stderr"
        }
      ]
    },
    {
      "cell_type": "markdown",
      "metadata": {
        "id": "AOe9Pc3gAtA8",
        "colab_type": "text"
      },
      "source": [
        "Data preparation"
      ]
    },
    {
      "cell_type": "code",
      "metadata": {
        "id": "FLFVEzzyBo1X",
        "colab_type": "code",
        "colab": {}
      },
      "source": [
        "data=pd.read_csv(\"/content/datasets_674388_1186156_tv_shows.csv\")"
      ],
      "execution_count": 0,
      "outputs": []
    },
    {
      "cell_type": "code",
      "metadata": {
        "id": "w-4vWUx8CHB-",
        "colab_type": "code",
        "outputId": "bdc06745-3947-47e7-b573-a1354be2ad47",
        "colab": {
          "base_uri": "https://localhost:8080/",
          "height": 319
        }
      },
      "source": [
        "data.info()"
      ],
      "execution_count": 3,
      "outputs": [
        {
          "output_type": "stream",
          "text": [
            "<class 'pandas.core.frame.DataFrame'>\n",
            "RangeIndex: 5611 entries, 0 to 5610\n",
            "Data columns (total 11 columns):\n",
            " #   Column           Non-Null Count  Dtype  \n",
            "---  ------           --------------  -----  \n",
            " 0   Unnamed: 0       5611 non-null   int64  \n",
            " 1   Title            5611 non-null   object \n",
            " 2   Year             5611 non-null   int64  \n",
            " 3   Age              3165 non-null   object \n",
            " 4   IMDb             4450 non-null   float64\n",
            " 5   Rotten Tomatoes  1011 non-null   object \n",
            " 6   Netflix          5611 non-null   int64  \n",
            " 7   Hulu             5611 non-null   int64  \n",
            " 8   Prime Video      5611 non-null   int64  \n",
            " 9   Disney+          5611 non-null   int64  \n",
            " 10  type             5611 non-null   int64  \n",
            "dtypes: float64(1), int64(7), object(3)\n",
            "memory usage: 482.3+ KB\n"
          ],
          "name": "stdout"
        }
      ]
    },
    {
      "cell_type": "code",
      "metadata": {
        "id": "s7BxXjLxCJlZ",
        "colab_type": "code",
        "outputId": "3a15fdb3-773f-4d0a-abf5-fc915ae411eb",
        "colab": {
          "base_uri": "https://localhost:8080/",
          "height": 34
        }
      },
      "source": [
        "#shape of the datasets\n",
        "\n",
        "data.shape"
      ],
      "execution_count": 4,
      "outputs": [
        {
          "output_type": "execute_result",
          "data": {
            "text/plain": [
              "(5611, 11)"
            ]
          },
          "metadata": {
            "tags": []
          },
          "execution_count": 4
        }
      ]
    },
    {
      "cell_type": "code",
      "metadata": {
        "id": "aSoUZrqNCc2p",
        "colab_type": "code",
        "outputId": "9f4776f5-6928-4489-85ca-3effec24fa87",
        "colab": {
          "base_uri": "https://localhost:8080/",
          "height": 195
        }
      },
      "source": [
        "data.head()"
      ],
      "execution_count": 5,
      "outputs": [
        {
          "output_type": "execute_result",
          "data": {
            "text/html": [
              "<div>\n",
              "<style scoped>\n",
              "    .dataframe tbody tr th:only-of-type {\n",
              "        vertical-align: middle;\n",
              "    }\n",
              "\n",
              "    .dataframe tbody tr th {\n",
              "        vertical-align: top;\n",
              "    }\n",
              "\n",
              "    .dataframe thead th {\n",
              "        text-align: right;\n",
              "    }\n",
              "</style>\n",
              "<table border=\"1\" class=\"dataframe\">\n",
              "  <thead>\n",
              "    <tr style=\"text-align: right;\">\n",
              "      <th></th>\n",
              "      <th>Unnamed: 0</th>\n",
              "      <th>Title</th>\n",
              "      <th>Year</th>\n",
              "      <th>Age</th>\n",
              "      <th>IMDb</th>\n",
              "      <th>Rotten Tomatoes</th>\n",
              "      <th>Netflix</th>\n",
              "      <th>Hulu</th>\n",
              "      <th>Prime Video</th>\n",
              "      <th>Disney+</th>\n",
              "      <th>type</th>\n",
              "    </tr>\n",
              "  </thead>\n",
              "  <tbody>\n",
              "    <tr>\n",
              "      <th>0</th>\n",
              "      <td>0</td>\n",
              "      <td>Breaking Bad</td>\n",
              "      <td>2008</td>\n",
              "      <td>18+</td>\n",
              "      <td>9.5</td>\n",
              "      <td>96%</td>\n",
              "      <td>1</td>\n",
              "      <td>0</td>\n",
              "      <td>0</td>\n",
              "      <td>0</td>\n",
              "      <td>1</td>\n",
              "    </tr>\n",
              "    <tr>\n",
              "      <th>1</th>\n",
              "      <td>1</td>\n",
              "      <td>Stranger Things</td>\n",
              "      <td>2016</td>\n",
              "      <td>16+</td>\n",
              "      <td>8.8</td>\n",
              "      <td>93%</td>\n",
              "      <td>1</td>\n",
              "      <td>0</td>\n",
              "      <td>0</td>\n",
              "      <td>0</td>\n",
              "      <td>1</td>\n",
              "    </tr>\n",
              "    <tr>\n",
              "      <th>2</th>\n",
              "      <td>2</td>\n",
              "      <td>Money Heist</td>\n",
              "      <td>2017</td>\n",
              "      <td>18+</td>\n",
              "      <td>8.4</td>\n",
              "      <td>91%</td>\n",
              "      <td>1</td>\n",
              "      <td>0</td>\n",
              "      <td>0</td>\n",
              "      <td>0</td>\n",
              "      <td>1</td>\n",
              "    </tr>\n",
              "    <tr>\n",
              "      <th>3</th>\n",
              "      <td>3</td>\n",
              "      <td>Sherlock</td>\n",
              "      <td>2010</td>\n",
              "      <td>16+</td>\n",
              "      <td>9.1</td>\n",
              "      <td>78%</td>\n",
              "      <td>1</td>\n",
              "      <td>0</td>\n",
              "      <td>0</td>\n",
              "      <td>0</td>\n",
              "      <td>1</td>\n",
              "    </tr>\n",
              "    <tr>\n",
              "      <th>4</th>\n",
              "      <td>4</td>\n",
              "      <td>Better Call Saul</td>\n",
              "      <td>2015</td>\n",
              "      <td>18+</td>\n",
              "      <td>8.7</td>\n",
              "      <td>97%</td>\n",
              "      <td>1</td>\n",
              "      <td>0</td>\n",
              "      <td>0</td>\n",
              "      <td>0</td>\n",
              "      <td>1</td>\n",
              "    </tr>\n",
              "  </tbody>\n",
              "</table>\n",
              "</div>"
            ],
            "text/plain": [
              "   Unnamed: 0             Title  Year  Age  ...  Hulu Prime Video  Disney+  type\n",
              "0           0      Breaking Bad  2008  18+  ...     0           0        0     1\n",
              "1           1   Stranger Things  2016  16+  ...     0           0        0     1\n",
              "2           2       Money Heist  2017  18+  ...     0           0        0     1\n",
              "3           3          Sherlock  2010  16+  ...     0           0        0     1\n",
              "4           4  Better Call Saul  2015  18+  ...     0           0        0     1\n",
              "\n",
              "[5 rows x 11 columns]"
            ]
          },
          "metadata": {
            "tags": []
          },
          "execution_count": 5
        }
      ]
    },
    {
      "cell_type": "code",
      "metadata": {
        "id": "Tbc_LI4BCgFw",
        "colab_type": "code",
        "outputId": "b8ff70c9-0dd3-42c8-887f-bf6a00617b7d",
        "colab": {
          "base_uri": "https://localhost:8080/",
          "height": 195
        }
      },
      "source": [
        "data.tail()"
      ],
      "execution_count": 6,
      "outputs": [
        {
          "output_type": "execute_result",
          "data": {
            "text/html": [
              "<div>\n",
              "<style scoped>\n",
              "    .dataframe tbody tr th:only-of-type {\n",
              "        vertical-align: middle;\n",
              "    }\n",
              "\n",
              "    .dataframe tbody tr th {\n",
              "        vertical-align: top;\n",
              "    }\n",
              "\n",
              "    .dataframe thead th {\n",
              "        text-align: right;\n",
              "    }\n",
              "</style>\n",
              "<table border=\"1\" class=\"dataframe\">\n",
              "  <thead>\n",
              "    <tr style=\"text-align: right;\">\n",
              "      <th></th>\n",
              "      <th>Unnamed: 0</th>\n",
              "      <th>Title</th>\n",
              "      <th>Year</th>\n",
              "      <th>Age</th>\n",
              "      <th>IMDb</th>\n",
              "      <th>Rotten Tomatoes</th>\n",
              "      <th>Netflix</th>\n",
              "      <th>Hulu</th>\n",
              "      <th>Prime Video</th>\n",
              "      <th>Disney+</th>\n",
              "      <th>type</th>\n",
              "    </tr>\n",
              "  </thead>\n",
              "  <tbody>\n",
              "    <tr>\n",
              "      <th>5606</th>\n",
              "      <td>5606</td>\n",
              "      <td>Tut's Treasures: Hidden Secrets</td>\n",
              "      <td>2018</td>\n",
              "      <td>NaN</td>\n",
              "      <td>NaN</td>\n",
              "      <td>NaN</td>\n",
              "      <td>0</td>\n",
              "      <td>0</td>\n",
              "      <td>0</td>\n",
              "      <td>1</td>\n",
              "      <td>1</td>\n",
              "    </tr>\n",
              "    <tr>\n",
              "      <th>5607</th>\n",
              "      <td>5607</td>\n",
              "      <td>Paradise Islands</td>\n",
              "      <td>2017</td>\n",
              "      <td>NaN</td>\n",
              "      <td>NaN</td>\n",
              "      <td>NaN</td>\n",
              "      <td>0</td>\n",
              "      <td>0</td>\n",
              "      <td>0</td>\n",
              "      <td>1</td>\n",
              "      <td>1</td>\n",
              "    </tr>\n",
              "    <tr>\n",
              "      <th>5608</th>\n",
              "      <td>5608</td>\n",
              "      <td>Wild Russia</td>\n",
              "      <td>2018</td>\n",
              "      <td>NaN</td>\n",
              "      <td>NaN</td>\n",
              "      <td>NaN</td>\n",
              "      <td>0</td>\n",
              "      <td>0</td>\n",
              "      <td>0</td>\n",
              "      <td>1</td>\n",
              "      <td>1</td>\n",
              "    </tr>\n",
              "    <tr>\n",
              "      <th>5609</th>\n",
              "      <td>5609</td>\n",
              "      <td>Love &amp; Vets</td>\n",
              "      <td>2017</td>\n",
              "      <td>NaN</td>\n",
              "      <td>NaN</td>\n",
              "      <td>NaN</td>\n",
              "      <td>0</td>\n",
              "      <td>0</td>\n",
              "      <td>0</td>\n",
              "      <td>1</td>\n",
              "      <td>1</td>\n",
              "    </tr>\n",
              "    <tr>\n",
              "      <th>5610</th>\n",
              "      <td>5610</td>\n",
              "      <td>United States of Animals</td>\n",
              "      <td>2016</td>\n",
              "      <td>NaN</td>\n",
              "      <td>NaN</td>\n",
              "      <td>NaN</td>\n",
              "      <td>0</td>\n",
              "      <td>0</td>\n",
              "      <td>0</td>\n",
              "      <td>1</td>\n",
              "      <td>1</td>\n",
              "    </tr>\n",
              "  </tbody>\n",
              "</table>\n",
              "</div>"
            ],
            "text/plain": [
              "      Unnamed: 0                            Title  ...  Disney+ type\n",
              "5606        5606  Tut's Treasures: Hidden Secrets  ...        1    1\n",
              "5607        5607                 Paradise Islands  ...        1    1\n",
              "5608        5608                      Wild Russia  ...        1    1\n",
              "5609        5609                      Love & Vets  ...        1    1\n",
              "5610        5610         United States of Animals  ...        1    1\n",
              "\n",
              "[5 rows x 11 columns]"
            ]
          },
          "metadata": {
            "tags": []
          },
          "execution_count": 6
        }
      ]
    },
    {
      "cell_type": "code",
      "metadata": {
        "id": "5_tuu9DVCol8",
        "colab_type": "code",
        "outputId": "ab116794-f905-4398-8335-752005c50f46",
        "colab": {
          "base_uri": "https://localhost:8080/",
          "height": 34
        }
      },
      "source": [
        "data.size"
      ],
      "execution_count": 7,
      "outputs": [
        {
          "output_type": "execute_result",
          "data": {
            "text/plain": [
              "61721"
            ]
          },
          "metadata": {
            "tags": []
          },
          "execution_count": 7
        }
      ]
    },
    {
      "cell_type": "code",
      "metadata": {
        "id": "_SSEB_HsEFLT",
        "colab_type": "code",
        "outputId": "ae93131b-6666-4a33-d244-b227ec12ee5f",
        "colab": {
          "base_uri": "https://localhost:8080/",
          "height": 84
        }
      },
      "source": [
        "data.axes"
      ],
      "execution_count": 8,
      "outputs": [
        {
          "output_type": "execute_result",
          "data": {
            "text/plain": [
              "[RangeIndex(start=0, stop=5611, step=1),\n",
              " Index(['Unnamed: 0', 'Title', 'Year', 'Age', 'IMDb', 'Rotten Tomatoes',\n",
              "        'Netflix', 'Hulu', 'Prime Video', 'Disney+', 'type'],\n",
              "       dtype='object')]"
            ]
          },
          "metadata": {
            "tags": []
          },
          "execution_count": 8
        }
      ]
    },
    {
      "cell_type": "code",
      "metadata": {
        "id": "5jrgVl9NEIcC",
        "colab_type": "code",
        "outputId": "045c5128-0494-4174-cc10-8ffdd4232603",
        "colab": {
          "base_uri": "https://localhost:8080/",
          "height": 50
        }
      },
      "source": [
        "dt=data.values\n",
        "dt[0]"
      ],
      "execution_count": 9,
      "outputs": [
        {
          "output_type": "execute_result",
          "data": {
            "text/plain": [
              "array([0, 'Breaking Bad', 2008, '18+', 9.5, '96%', 1, 0, 0, 0, 1],\n",
              "      dtype=object)"
            ]
          },
          "metadata": {
            "tags": []
          },
          "execution_count": 9
        }
      ]
    },
    {
      "cell_type": "markdown",
      "metadata": {
        "id": "r0no5g3HFTap",
        "colab_type": "text"
      },
      "source": [
        "Starting Analysis of Data"
      ]
    },
    {
      "cell_type": "code",
      "metadata": {
        "id": "5XP-aTvYEOoT",
        "colab_type": "code",
        "outputId": "aa198b0f-d479-4a85-ecf2-d8c58b898772",
        "colab": {
          "base_uri": "https://localhost:8080/",
          "height": 84
        }
      },
      "source": [
        "print(\"Tv shows on netflix:\",data['Netflix'].sum(),'/',data['Netflix'].count())\n",
        "print(\"Tv shows on Prime Video:\",data['Prime Video'].sum(),'/',data['Prime Video'].count())\n",
        "print(\"Tv shows on Hulu:\",data['Hulu'].sum(),'/',data['Hulu'].count())\n",
        "print(\"Tv shows on Disney+:\",data['Disney+'].sum(),'/',data['Disney+'].count())"
      ],
      "execution_count": 10,
      "outputs": [
        {
          "output_type": "stream",
          "text": [
            "Tv shows on netflix: 1931 / 5611\n",
            "Tv shows on Prime Video: 2144 / 5611\n",
            "Tv shows on Hulu: 1754 / 5611\n",
            "Tv shows on Disney+: 180 / 5611\n"
          ],
          "name": "stdout"
        }
      ]
    },
    {
      "cell_type": "code",
      "metadata": {
        "id": "clkcPl98EOyw",
        "colab_type": "code",
        "outputId": "e9fad5f1-b9c2-4277-b5eb-ba1aff623909",
        "colab": {
          "base_uri": "https://localhost:8080/",
          "height": 1000
        }
      },
      "source": [
        "#top 50 IMDb rated  Tv shows\n",
        "plt.subplots(figsize=(10,20))\n",
        "sns.barplot(x=\"IMDb\",y=\"Title\",data=data.sort_values(\"IMDb\",ascending=False).head(50))\n"
      ],
      "execution_count": 11,
      "outputs": [
        {
          "output_type": "execute_result",
          "data": {
            "text/plain": [
              "<matplotlib.axes._subplots.AxesSubplot at 0x7f1b3aec9dd8>"
            ]
          },
          "metadata": {
            "tags": []
          },
          "execution_count": 11
        },
        {
          "output_type": "display_data",
          "data": {
            "image/png": "[encoded data removed]",
            "text/plain": [
              "<Figure size 720x1440 with 1 Axes>"
            ]
          },
          "metadata": {
            "tags": [],
            "needs_background": "light"
          }
        }
      ]
    },
    {
      "cell_type": "code",
      "metadata": {
        "id": "x83BQvzJLl7X",
        "colab_type": "code",
        "colab": {
          "base_uri": "https://localhost:8080/",
          "height": 252
        },
        "outputId": "b5531ad9-5429-47fa-cafe-9b163db9770c"
      },
      "source": [
        "#quantity of shows on various platforms present in the dataset\n",
        "labels = 'Netflix' , 'Hulu', 'Prime Video', 'Disney+'\n",
        "sizes = [data['Netflix'].sum(),data['Hulu'].sum(),data['Prime Video'].sum(),data['Disney+'].sum()]\n",
        "explode = (0.1, 0.1, 0.5, 0.1 )\n",
        "\n",
        "fig1 , ax1 = plt.subplots()\n",
        "\n",
        "ax1.pie(sizes,\n",
        "        explode = explode,\n",
        "        labels = labels,\n",
        "        autopct = '%1.1f%%',\n",
        "        shadow = True,\n",
        "        startangle = 100)\n",
        "\n",
        "ax1.axis ('equal')\n",
        "plt.show()\n",
        "\n"
      ],
      "execution_count": 20,
      "outputs": [
        {
          "output_type": "display_data",
          "data": {
            "image/png": "[encoded data removed]",
            "text/plain": [
              "<Figure size 432x288 with 1 Axes>"
            ]
          },
          "metadata": {
            "tags": []
          }
        }
      ]
    },
    {
      "cell_type": "code",
      "metadata": {
        "id": "jX6AbrS0zVw_",
        "colab_type": "code",
        "colab": {}
      },
      "source": [
        "netflix_shows=data.loc[data['Netflix']==1]\n",
        "hulu_shows=data.loc[data['Hulu']==1]\n",
        "Prime_video_shows=data.loc[data['Prime Video']==1]\n",
        "Disney_shows=data.loc[data['Disney+']==1]"
      ],
      "execution_count": 0,
      "outputs": []
    },
    {
      "cell_type": "code",
      "metadata": {
        "id": "0zxK6j6xJlLk",
        "colab_type": "code",
        "colab": {}
      },
      "source": [
        "#list of top shows on netflix\n",
        "netflix_top_shows = netflix_shows.loc[netflix_shows['IMDb']>8.0]\n",
        "hulu_top_shows = hulu_shows.loc[hulu_shows['IMDb']>8.0]\n",
        "prime_video_top_shows = Prime_video_shows.loc[Prime_video_shows['IMDb']>8.0]\n",
        "disney_top_shows = Disney_shows.loc[Disney_shows['IMDb']>8.0]"
      ],
      "execution_count": 0,
      "outputs": []
    },
    {
      "cell_type": "code",
      "metadata": {
        "id": "HmR1huQK3Vqe",
        "colab_type": "code",
        "colab": {}
      },
      "source": [
        "#lets plot a bar graph of platforms with highest IMDb shows\n",
        "\n",
        "platform=['Netflix','Hulu','Prime Video','Disney+']\n",
        "count=[netflix_top_shows['IMDb'].sum(),hulu_top_shows['IMDb'].sum(),prime_video_top_shows['IMDb'].sum(),disney_top_shows['IMDb'].sum()]"
      ],
      "execution_count": 0,
      "outputs": []
    },
    {
      "cell_type": "code",
      "metadata": {
        "id": "qSzv1_c33V1M",
        "colab_type": "code",
        "colab": {
          "base_uri": "https://localhost:8080/",
          "height": 336
        },
        "outputId": "927d47ae-30da-4e35-cc54-d7e005c95983"
      },
      "source": [
        "fig=plt.figure()\n",
        "ax=fig.add_axes([1,1,1,1])\n",
        "ax.bar(platform,count)\n",
        "plt.show()"
      ],
      "execution_count": 37,
      "outputs": [
        {
          "output_type": "display_data",
          "data": {
            "image/png": "[encoded data removed]",
            "text/plain": [
              "<Figure size 432x288 with 1 Axes>"
            ]
          },
          "metadata": {
            "tags": [],
            "needs_background": "light"
          }
        }
      ]
    },
    {
      "cell_type": "code",
      "metadata": {
        "id": "jXBozFO13V7t",
        "colab_type": "code",
        "colab": {
          "base_uri": "https://localhost:8080/",
          "height": 621
        },
        "outputId": "26b2c8ec-fa14-40de-f110-84e227fb9518"
      },
      "source": [
        "#Platform with most shows rated above 8+ (IMDB)\n",
        "plt.figure(figsize = (15, 10))\n",
        "sns.barplot(\n",
        "           x = platform,\n",
        "           y = count\n",
        ")\n",
        "plt.xlabel('Platform')\n",
        "plt.ylabel('Total number of showsrated above 8')\n",
        "plt.title('Platform with most shows rated above 8+ (IMDB)')\n",
        "plt.show()"
      ],
      "execution_count": 38,
      "outputs": [
        {
          "output_type": "display_data",
          "data": {
            "image/png": "[encoded data removed]",
            "text/plain": [
              "<Figure size 1080x720 with 1 Axes>"
            ]
          },
          "metadata": {
            "tags": [],
            "needs_background": "light"
          }
        }
      ]
    },
    {
      "cell_type": "code",
      "metadata": {
        "id": "1dbQnpMJ5Xt-",
        "colab_type": "code",
        "colab": {}
      },
      "source": [
        ""
      ],
      "execution_count": 0,
      "outputs": []
    },
    {
      "cell_type": "code",
      "metadata": {
        "id": "4sJsOpiu3WBT",
        "colab_type": "code",
        "colab": {}
      },
      "source": [
        ""
      ],
      "execution_count": 0,
      "outputs": []
    }
  ]
}