{
  "nbformat": 4,
  "nbformat_minor": 0,
  "metadata": {
    "kernelspec": {
      "display_name": "Python 3",
      "language": "python",
      "name": "python3"
    },
    "language_info": {
      "codemirror_mode": {
        "name": "ipython",
        "version": 3
      },
      "file_extension": ".py",
      "mimetype": "text/x-python",
      "name": "python",
      "nbconvert_exporter": "python",
      "pygments_lexer": "ipython3",
      "version": "3.7.6"
    },
    "colab": {
      "name": "AirBnB_price_Prediction.ipynb",
      "provenance": [],
      "include_colab_link": true
    }
  },
  "cells": [
    {
      "cell_type": "markdown",
      "metadata": {
        "id": "view-in-github",
        "colab_type": "text"
      },
      "source": [
        "<a href=\"https://colab.research.google.com/github/SAQUIBZEYA/ML_Project/blob/master/AirBnB_price_Prediction.ipynb\" target=\"_parent\"><img src=\"https://colab.research.google.com/assets/colab-badge.svg\" alt=\"Open In Colab\"/></a>"
      ]
    },
    {
      "cell_type": "markdown",
      "metadata": {
        "id": "wVoFFkCpfXcT"
      },
      "source": [
        "# import the libraries"
      ]
    },
    {
      "cell_type": "code",
      "metadata": {
        "id": "m_Q7rT0PfXci"
      },
      "source": [
        "import numpy as np\n",
        "import pandas as pd\n",
        "import matplotlib.pyplot as plt\n",
        "import seaborn as sns\n",
        "from sklearn.preprocessing import LabelBinarizer\n",
        "from sklearn.decomposition import PCA\n",
        "from sklearn.model_selection import KFold, GridSearchCV\n",
        "from sklearn.linear_model import LinearRegression, Ridge, Lasso, LogisticRegression\n",
        "from sklearn.metrics import mean_squared_error as mse\n",
        "from sklearn.metrics import confusion_matrix as conMatrix\n",
        "from sklearn.metrics import classification_report as ClassR\n",
        "from sklearn.svm import SVC, LinearSVC\n",
        "from sklearn.neighbors import KNeighborsClassifier\n",
        "from mlxtend.feature_selection import SequentialFeatureSelector as sfs\n",
        "from mlxtend.plotting import plot_sequential_feature_selection as plot_sfs\n",
        "from uszipcode import Zipcode, SearchEngine\n",
        "search = SearchEngine(simple_zipcode=True)\n",
        "\n",
        "%matplotlib inline"
      ],
      "execution_count": null,
      "outputs": []
    },
    {
      "cell_type": "markdown",
      "metadata": {
        "id": "G7I_dpylfXcu"
      },
      "source": [
        "# Load the datasets"
      ]
    },
    {
      "cell_type": "code",
      "metadata": {
        "id": "1JVWzHhFfXcw"
      },
      "source": [
        "train_file=r'E:\\saquib D.S\\Data\\mydata\\AirBnB_train.csv'\n",
        "test_file=r'E:\\saquib D.S\\Data\\mydata\\AirBnB_test.csv'\n",
        "\n",
        "train_df=pd.read_csv(train_file)\n",
        "test_df=pd.read_csv(test_file)\n",
        "\n",
        "df=pd.concat([train_df,test_df],axis=0)"
      ],
      "execution_count": null,
      "outputs": []
    },
    {
      "cell_type": "code",
      "metadata": {
        "id": "vURkt03zfXc4",
        "outputId": "14871ae2-67f7-4d97-aa7e-0d5d5f63daa4"
      },
      "source": [
        "df.head()"
      ],
      "execution_count": null,
      "outputs": [
        {
          "output_type": "execute_result",
          "data": {
            "text/html": [
              "<div>\n",
              "<style scoped>\n",
              "    .dataframe tbody tr th:only-of-type {\n",
              "        vertical-align: middle;\n",
              "    }\n",
              "\n",
              "    .dataframe tbody tr th {\n",
              "        vertical-align: top;\n",
              "    }\n",
              "\n",
              "    .dataframe thead th {\n",
              "        text-align: right;\n",
              "    }\n",
              "</style>\n",
              "<table border=\"1\" class=\"dataframe\">\n",
              "  <thead>\n",
              "    <tr style=\"text-align: right;\">\n",
              "      <th></th>\n",
              "      <th>id</th>\n",
              "      <th>property_type</th>\n",
              "      <th>room_type</th>\n",
              "      <th>amenities</th>\n",
              "      <th>accommodates</th>\n",
              "      <th>bathrooms</th>\n",
              "      <th>bed_type</th>\n",
              "      <th>cancellation_policy</th>\n",
              "      <th>cleaning_fee</th>\n",
              "      <th>city</th>\n",
              "      <th>...</th>\n",
              "      <th>name</th>\n",
              "      <th>neighbourhood</th>\n",
              "      <th>number_of_reviews</th>\n",
              "      <th>review_scores_rating</th>\n",
              "      <th>thumbnail_url</th>\n",
              "      <th>zipcode</th>\n",
              "      <th>bedrooms</th>\n",
              "      <th>beds</th>\n",
              "      <th>log_price</th>\n",
              "      <th></th>\n",
              "    </tr>\n",
              "  </thead>\n",
              "  <tbody>\n",
              "    <tr>\n",
              "      <th>0</th>\n",
              "      <td>6901257</td>\n",
              "      <td>Apartment</td>\n",
              "      <td>Entire home/apt</td>\n",
              "      <td>{\"Wireless Internet\",\"Air conditioning\",Kitche...</td>\n",
              "      <td>3</td>\n",
              "      <td>1.0</td>\n",
              "      <td>Real Bed</td>\n",
              "      <td>strict</td>\n",
              "      <td>True</td>\n",
              "      <td>NYC</td>\n",
              "      <td>...</td>\n",
              "      <td>Beautiful brownstone 1-bedroom</td>\n",
              "      <td>Brooklyn Heights</td>\n",
              "      <td>2</td>\n",
              "      <td>100.0</td>\n",
              "      <td>https://a0.muscache.com/im/pictures/6d7cbbf7-c...</td>\n",
              "      <td>11201</td>\n",
              "      <td>1.0</td>\n",
              "      <td>1.0</td>\n",
              "      <td>5.010635</td>\n",
              "      <td>NaN</td>\n",
              "    </tr>\n",
              "    <tr>\n",
              "      <th>1</th>\n",
              "      <td>6304928</td>\n",
              "      <td>Apartment</td>\n",
              "      <td>Entire home/apt</td>\n",
              "      <td>{\"Wireless Internet\",\"Air conditioning\",Kitche...</td>\n",
              "      <td>7</td>\n",
              "      <td>1.0</td>\n",
              "      <td>Real Bed</td>\n",
              "      <td>strict</td>\n",
              "      <td>True</td>\n",
              "      <td>NYC</td>\n",
              "      <td>...</td>\n",
              "      <td>Superb 3BR Apt Located Near Times Square</td>\n",
              "      <td>Hell's Kitchen</td>\n",
              "      <td>6</td>\n",
              "      <td>93.0</td>\n",
              "      <td>https://a0.muscache.com/im/pictures/348a55fe-4...</td>\n",
              "      <td>10019</td>\n",
              "      <td>3.0</td>\n",
              "      <td>3.0</td>\n",
              "      <td>5.129899</td>\n",
              "      <td>NaN</td>\n",
              "    </tr>\n",
              "    <tr>\n",
              "      <th>2</th>\n",
              "      <td>7919400</td>\n",
              "      <td>Apartment</td>\n",
              "      <td>Entire home/apt</td>\n",
              "      <td>{TV,\"Cable TV\",\"Wireless Internet\",\"Air condit...</td>\n",
              "      <td>5</td>\n",
              "      <td>1.0</td>\n",
              "      <td>Real Bed</td>\n",
              "      <td>moderate</td>\n",
              "      <td>True</td>\n",
              "      <td>NYC</td>\n",
              "      <td>...</td>\n",
              "      <td>The Garden Oasis</td>\n",
              "      <td>Harlem</td>\n",
              "      <td>10</td>\n",
              "      <td>92.0</td>\n",
              "      <td>https://a0.muscache.com/im/pictures/6fae5362-9...</td>\n",
              "      <td>10027</td>\n",
              "      <td>1.0</td>\n",
              "      <td>3.0</td>\n",
              "      <td>4.976734</td>\n",
              "      <td>NaN</td>\n",
              "    </tr>\n",
              "    <tr>\n",
              "      <th>3</th>\n",
              "      <td>13418779</td>\n",
              "      <td>House</td>\n",
              "      <td>Entire home/apt</td>\n",
              "      <td>{TV,\"Cable TV\",Internet,\"Wireless Internet\",Ki...</td>\n",
              "      <td>4</td>\n",
              "      <td>1.0</td>\n",
              "      <td>Real Bed</td>\n",
              "      <td>flexible</td>\n",
              "      <td>True</td>\n",
              "      <td>SF</td>\n",
              "      <td>...</td>\n",
              "      <td>Beautiful Flat in the Heart of SF!</td>\n",
              "      <td>Lower Haight</td>\n",
              "      <td>0</td>\n",
              "      <td>NaN</td>\n",
              "      <td>https://a0.muscache.com/im/pictures/72208dad-9...</td>\n",
              "      <td>94117</td>\n",
              "      <td>2.0</td>\n",
              "      <td>2.0</td>\n",
              "      <td>6.620073</td>\n",
              "      <td>NaN</td>\n",
              "    </tr>\n",
              "    <tr>\n",
              "      <th>4</th>\n",
              "      <td>3808709</td>\n",
              "      <td>Apartment</td>\n",
              "      <td>Entire home/apt</td>\n",
              "      <td>{TV,Internet,\"Wireless Internet\",\"Air conditio...</td>\n",
              "      <td>2</td>\n",
              "      <td>1.0</td>\n",
              "      <td>Real Bed</td>\n",
              "      <td>moderate</td>\n",
              "      <td>True</td>\n",
              "      <td>DC</td>\n",
              "      <td>...</td>\n",
              "      <td>Great studio in midtown DC</td>\n",
              "      <td>Columbia Heights</td>\n",
              "      <td>4</td>\n",
              "      <td>40.0</td>\n",
              "      <td>NaN</td>\n",
              "      <td>20009</td>\n",
              "      <td>0.0</td>\n",
              "      <td>1.0</td>\n",
              "      <td>4.744932</td>\n",
              "      <td>NaN</td>\n",
              "    </tr>\n",
              "  </tbody>\n",
              "</table>\n",
              "<p>5 rows × 30 columns</p>\n",
              "</div>"
            ],
            "text/plain": [
              "         id property_type        room_type  \\\n",
              "0   6901257     Apartment  Entire home/apt   \n",
              "1   6304928     Apartment  Entire home/apt   \n",
              "2   7919400     Apartment  Entire home/apt   \n",
              "3  13418779         House  Entire home/apt   \n",
              "4   3808709     Apartment  Entire home/apt   \n",
              "\n",
              "                                           amenities  accommodates  bathrooms  \\\n",
              "0  {\"Wireless Internet\",\"Air conditioning\",Kitche...             3        1.0   \n",
              "1  {\"Wireless Internet\",\"Air conditioning\",Kitche...             7        1.0   \n",
              "2  {TV,\"Cable TV\",\"Wireless Internet\",\"Air condit...             5        1.0   \n",
              "3  {TV,\"Cable TV\",Internet,\"Wireless Internet\",Ki...             4        1.0   \n",
              "4  {TV,Internet,\"Wireless Internet\",\"Air conditio...             2        1.0   \n",
              "\n",
              "   bed_type cancellation_policy  cleaning_fee city  ...  \\\n",
              "0  Real Bed              strict          True  NYC  ...   \n",
              "1  Real Bed              strict          True  NYC  ...   \n",
              "2  Real Bed            moderate          True  NYC  ...   \n",
              "3  Real Bed            flexible          True   SF  ...   \n",
              "4  Real Bed            moderate          True   DC  ...   \n",
              "\n",
              "                                       name     neighbourhood  \\\n",
              "0            Beautiful brownstone 1-bedroom  Brooklyn Heights   \n",
              "1  Superb 3BR Apt Located Near Times Square    Hell's Kitchen   \n",
              "2                          The Garden Oasis            Harlem   \n",
              "3        Beautiful Flat in the Heart of SF!      Lower Haight   \n",
              "4                Great studio in midtown DC  Columbia Heights   \n",
              "\n",
              "  number_of_reviews review_scores_rating  \\\n",
              "0                 2                100.0   \n",
              "1                 6                 93.0   \n",
              "2                10                 92.0   \n",
              "3                 0                  NaN   \n",
              "4                 4                 40.0   \n",
              "\n",
              "                                       thumbnail_url zipcode bedrooms beds  \\\n",
              "0  https://a0.muscache.com/im/pictures/6d7cbbf7-c...   11201      1.0  1.0   \n",
              "1  https://a0.muscache.com/im/pictures/348a55fe-4...   10019      3.0  3.0   \n",
              "2  https://a0.muscache.com/im/pictures/6fae5362-9...   10027      1.0  3.0   \n",
              "3  https://a0.muscache.com/im/pictures/72208dad-9...   94117      2.0  2.0   \n",
              "4                                                NaN   20009      0.0  1.0   \n",
              "\n",
              "   log_price      \n",
              "0   5.010635 NaN  \n",
              "1   5.129899 NaN  \n",
              "2   4.976734 NaN  \n",
              "3   6.620073 NaN  \n",
              "4   4.744932 NaN  \n",
              "\n",
              "[5 rows x 30 columns]"
            ]
          },
          "metadata": {
            "tags": []
          },
          "execution_count": 3
        }
      ]
    },
    {
      "cell_type": "markdown",
      "metadata": {
        "id": "nfAhGO9ofXdB"
      },
      "source": [
        "# cleaning the datasets"
      ]
    },
    {
      "cell_type": "code",
      "metadata": {
        "id": "urbM1P8wfXdC",
        "outputId": "d5628740-25b8-4221-80ee-1ed1e185d050"
      },
      "source": [
        "#check for missing values\n",
        "\n",
        "missing_df = train_df.isnull().sum(axis=0).reset_index()\n",
        "missing_df.columns = ['column_name', 'missing_count']\n",
        "missing_df = missing_df.loc[missing_df['missing_count']>0]\n",
        "missing_df = missing_df.sort_values(by='missing_count')\n",
        "missing_df"
      ],
      "execution_count": null,
      "outputs": [
        {
          "output_type": "execute_result",
          "data": {
            "text/html": [
              "<div>\n",
              "<style scoped>\n",
              "    .dataframe tbody tr th:only-of-type {\n",
              "        vertical-align: middle;\n",
              "    }\n",
              "\n",
              "    .dataframe tbody tr th {\n",
              "        vertical-align: top;\n",
              "    }\n",
              "\n",
              "    .dataframe thead th {\n",
              "        text-align: right;\n",
              "    }\n",
              "</style>\n",
              "<table border=\"1\" class=\"dataframe\">\n",
              "  <thead>\n",
              "    <tr style=\"text-align: right;\">\n",
              "      <th></th>\n",
              "      <th>column_name</th>\n",
              "      <th>missing_count</th>\n",
              "    </tr>\n",
              "  </thead>\n",
              "  <tbody>\n",
              "    <tr>\n",
              "      <th>26</th>\n",
              "      <td>bedrooms</td>\n",
              "      <td>62</td>\n",
              "    </tr>\n",
              "    <tr>\n",
              "      <th>27</th>\n",
              "      <td>beds</td>\n",
              "      <td>91</td>\n",
              "    </tr>\n",
              "    <tr>\n",
              "      <th>12</th>\n",
              "      <td>host_has_profile_pic</td>\n",
              "      <td>127</td>\n",
              "    </tr>\n",
              "    <tr>\n",
              "      <th>13</th>\n",
              "      <td>host_identity_verified</td>\n",
              "      <td>127</td>\n",
              "    </tr>\n",
              "    <tr>\n",
              "      <th>15</th>\n",
              "      <td>host_since</td>\n",
              "      <td>127</td>\n",
              "    </tr>\n",
              "    <tr>\n",
              "      <th>5</th>\n",
              "      <td>bathrooms</td>\n",
              "      <td>146</td>\n",
              "    </tr>\n",
              "    <tr>\n",
              "      <th>25</th>\n",
              "      <td>zipcode</td>\n",
              "      <td>640</td>\n",
              "    </tr>\n",
              "    <tr>\n",
              "      <th>21</th>\n",
              "      <td>neighbourhood</td>\n",
              "      <td>4617</td>\n",
              "    </tr>\n",
              "    <tr>\n",
              "      <th>24</th>\n",
              "      <td>thumbnail_url</td>\n",
              "      <td>5595</td>\n",
              "    </tr>\n",
              "    <tr>\n",
              "      <th>17</th>\n",
              "      <td>last_review</td>\n",
              "      <td>10683</td>\n",
              "    </tr>\n",
              "    <tr>\n",
              "      <th>11</th>\n",
              "      <td>first_review</td>\n",
              "      <td>10711</td>\n",
              "    </tr>\n",
              "    <tr>\n",
              "      <th>23</th>\n",
              "      <td>review_scores_rating</td>\n",
              "      <td>11301</td>\n",
              "    </tr>\n",
              "    <tr>\n",
              "      <th>14</th>\n",
              "      <td>host_response_rate</td>\n",
              "      <td>12338</td>\n",
              "    </tr>\n",
              "    <tr>\n",
              "      <th>29</th>\n",
              "      <td></td>\n",
              "      <td>49999</td>\n",
              "    </tr>\n",
              "  </tbody>\n",
              "</table>\n",
              "</div>"
            ],
            "text/plain": [
              "               column_name  missing_count\n",
              "26                bedrooms             62\n",
              "27                    beds             91\n",
              "12    host_has_profile_pic            127\n",
              "13  host_identity_verified            127\n",
              "15              host_since            127\n",
              "5                bathrooms            146\n",
              "25                 zipcode            640\n",
              "21           neighbourhood           4617\n",
              "24           thumbnail_url           5595\n",
              "17             last_review          10683\n",
              "11            first_review          10711\n",
              "23    review_scores_rating          11301\n",
              "14      host_response_rate          12338\n",
              "29                                  49999"
            ]
          },
          "metadata": {
            "tags": []
          },
          "execution_count": 4
        }
      ]
    },
    {
      "cell_type": "code",
      "metadata": {
        "id": "bA0eQFthfXdJ",
        "outputId": "38845d9f-1b5b-4927-8178-d6e1ded8ab37"
      },
      "source": [
        "#Handling missing values in both train and test dataframe\n",
        "\n",
        "train_df['bathrooms'] = train_df['bathrooms'].fillna(0)\n",
        "test_df['bathrooms'] = test_df['bathrooms'].fillna(0)\n",
        "\n",
        "# 'bedrooms'\n",
        "train_df['bedrooms'] = train_df['bedrooms'].fillna(0)\n",
        "test_df['bedrooms'] = test_df['bedrooms'].fillna(0)\n",
        "\n",
        "# 'beds' \n",
        "train_df['beds'] = train_df['beds'].fillna(0)\n",
        "test_df['beds'] = test_df['beds'].fillna(0)\n",
        "\n",
        "# 'host_has_profile_pic'\n",
        "train_df.loc[train_df.host_has_profile_pic == 't', 'host_has_profile_pic'] = 1\n",
        "train_df.loc[train_df.host_has_profile_pic == 'f', 'host_has_profile_pic'] = 0\n",
        "train_df['host_has_profile_pic'] = train_df['host_has_profile_pic'].fillna(0)\n",
        "test_df.loc[test_df.host_has_profile_pic == 't', 'host_has_profile_pic'] = 1\n",
        "test_df.loc[test_df.host_has_profile_pic == 'f', 'host_has_profile_pic'] = 0\n",
        "test_df['host_has_profile_pic'] = test_df['host_has_profile_pic'].fillna(0)\n",
        "\n",
        "# 'neighbourhood'\n",
        "train_df['neighbourhood'] = train_df['neighbourhood'].fillna('Unknown')\n",
        "test_df['neighbourhood'] = test_df['neighbourhood'].fillna('Unknown')\n",
        "\n",
        "# 'review_scores_rating'\n",
        "train_df['review_scores_rating'] = train_df['review_scores_rating'].fillna(0)\n",
        "test_df['review_scores_rating'] = test_df['review_scores_rating'].fillna(0)\n",
        "\n",
        "# 'host_response_rate'\n",
        "train_df['host_response_rate'] = train_df['host_response_rate'].str.replace('%','')\n",
        "train_df['host_response_rate'] = train_df['host_response_rate'].fillna('0')\n",
        "train_df['host_response_rate'] = pd.to_numeric(train_df['host_response_rate'])\n",
        "test_df['host_response_rate'] = test_df['host_response_rate'].str.replace('%','')\n",
        "test_df['host_response_rate'] = test_df['host_response_rate'].fillna('0')\n",
        "test_df['host_response_rate'] = pd.to_numeric(test_df['host_response_rate'])\n",
        "# 'thumbnai_url'\n",
        "train_df['thumbnail_url'] = train_df['thumbnail_url'].fillna('Unknown')\n",
        "test_df['thumbnail_url'] = test_df['thumbnail_url'].fillna('Unknown')\n",
        "\n",
        "# 'last_review'\n",
        "train_df['last_review'] = train_df['last_review'].fillna('00-00-00')\n",
        "test_df['last_review'] = test_df['last_review'].fillna('00-00-00')\n",
        "\n",
        "# 'first_review'\n",
        "train_df['first_review'] = train_df['first_review'].fillna('00-00-00')\n",
        "test_df['first_review'] = test_df['first_review'].fillna('00-00-00')\n",
        "\n",
        "# 'host_since'\n",
        "train_df['host_since'] = train_df['host_since'].fillna('00-00-00')\n",
        "test_df['host_since'] = test_df['host_since'].fillna('00-00-00')\n",
        "\n",
        "# 'host_identity_verified'\n",
        "train_df.loc[train_df.host_identity_verified == 't', 'host_identity_verified'] = 1\n",
        "train_df.loc[train_df.host_identity_verified == 'f', 'host_identity_verified'] = 0\n",
        "train_df['host_identity_verified'] = train_df['host_identity_verified'].fillna(0)\n",
        "test_df.loc[test_df.host_identity_verified == 't', 'host_identity_verified'] = 1\n",
        "test_df.loc[test_df.host_identity_verified == 'f', 'host_identity_verified'] = 0\n",
        "test_df['host_identity_verified'] = test_df['host_identity_verified'].fillna(0)\n",
        "\n",
        "# 'zipcode', ***this might take some time, but works perfect***\n",
        "train_df['zipcode'] = train_df['zipcode'].fillna(0)\n",
        "train_df.loc[train_df.zipcode == ' ', 'zipcode'] = 0\n",
        "idx = train_df.index[train_df['zipcode']==0].tolist()\n",
        "for i in idx:\n",
        "    lat = train_df['latitude'][i]\n",
        "    lon = train_df['longitude'][i]\n",
        "    result = np.max(search.by_coordinates(lat, lon, radius=30, returns=5))\n",
        "    train_df['zipcode'][i]=result.values()[0]    \n",
        "test_df['zipcode'] = test_df['zipcode'].fillna(0)\n",
        "test_df.loc[test_df.zipcode == ' ', 'zipcode'] = 0\n",
        "idx = test_df.index[test_df['zipcode']==0].tolist()\n",
        "for i in idx:\n",
        "    lat = test_df['latitude'][i]\n",
        "    lon = test_df['longitude'][i]\n",
        "    result = np.max(search.by_coordinates(lat, lon, radius=30, returns=5))\n",
        "    test_df['zipcode'][i]=result.values()[0]"
      ],
      "execution_count": null,
      "outputs": [
        {
          "output_type": "stream",
          "text": [
            "C:\\Users\\mdsha\\anaconda3\\lib\\site-packages\\ipykernel_launcher.py:69: SettingWithCopyWarning: \n",
            "A value is trying to be set on a copy of a slice from a DataFrame\n",
            "\n",
            "See the caveats in the documentation: https://pandas.pydata.org/pandas-docs/stable/user_guide/indexing.html#returning-a-view-versus-a-copy\n",
            "C:\\Users\\mdsha\\anaconda3\\lib\\site-packages\\ipykernel_launcher.py:77: SettingWithCopyWarning: \n",
            "A value is trying to be set on a copy of a slice from a DataFrame\n",
            "\n",
            "See the caveats in the documentation: https://pandas.pydata.org/pandas-docs/stable/user_guide/indexing.html#returning-a-view-versus-a-copy\n"
          ],
          "name": "stderr"
        }
      ]
    },
    {
      "cell_type": "code",
      "metadata": {
        "id": "2cAiH2QBfXdP",
        "outputId": "32dbd8b3-736f-4b08-c63c-0a883507d582"
      },
      "source": [
        "# Again check for missing values in the test dataframe\n",
        "missing_df = train_df.isnull().sum(axis=0).reset_index()\n",
        "missing_df.columns = ['column_name', 'missing_count']\n",
        "missing_df = missing_df.loc[missing_df['missing_count']>0]\n",
        "missing_df = missing_df.sort_values(by='missing_count')\n",
        "missing_df"
      ],
      "execution_count": null,
      "outputs": [
        {
          "output_type": "execute_result",
          "data": {
            "text/html": [
              "<div>\n",
              "<style scoped>\n",
              "    .dataframe tbody tr th:only-of-type {\n",
              "        vertical-align: middle;\n",
              "    }\n",
              "\n",
              "    .dataframe tbody tr th {\n",
              "        vertical-align: top;\n",
              "    }\n",
              "\n",
              "    .dataframe thead th {\n",
              "        text-align: right;\n",
              "    }\n",
              "</style>\n",
              "<table border=\"1\" class=\"dataframe\">\n",
              "  <thead>\n",
              "    <tr style=\"text-align: right;\">\n",
              "      <th></th>\n",
              "      <th>column_name</th>\n",
              "      <th>missing_count</th>\n",
              "    </tr>\n",
              "  </thead>\n",
              "  <tbody>\n",
              "    <tr>\n",
              "      <th>29</th>\n",
              "      <td></td>\n",
              "      <td>49999</td>\n",
              "    </tr>\n",
              "  </tbody>\n",
              "</table>\n",
              "</div>"
            ],
            "text/plain": [
              "   column_name  missing_count\n",
              "29                      49999"
            ]
          },
          "metadata": {
            "tags": []
          },
          "execution_count": 6
        }
      ]
    },
    {
      "cell_type": "code",
      "metadata": {
        "id": "1f5vVZ9lfXdY"
      },
      "source": [
        "train_df['int_price'] = np.exp(train_df['log_price'])"
      ],
      "execution_count": null,
      "outputs": []
    },
    {
      "cell_type": "markdown",
      "metadata": {
        "id": "a4B0GkaefXdg"
      },
      "source": [
        "# EXPLORATE DATA ANALYSIS (EDA)"
      ]
    },
    {
      "cell_type": "code",
      "metadata": {
        "id": "Wh8gDxNTfXdi",
        "outputId": "873f76b3-fef6-408b-b09a-655d547bd17d"
      },
      "source": [
        "#  plot1 Integer Pricing per City\n",
        "plot1 = sns.barplot(x='city',y='int_price',data=train_df)\n",
        "fig = plot1.get_figure()\n",
        "fig.savefig('./plot1.png')"
      ],
      "execution_count": null,
      "outputs": [
        {
          "output_type": "display_data",
          "data": {
            "image/png": "[encoded data removed]",
            "text/plain": [
              "<Figure size 432x288 with 1 Axes>"
            ]
          },
          "metadata": {
            "tags": [],
            "needs_background": "light"
          }
        }
      ]
    },
    {
      "cell_type": "code",
      "metadata": {
        "id": "ecoqP_1FfXdq",
        "outputId": "9048fce2-4298-4334-f1ad-46f365e2b7b9"
      },
      "source": [
        "#Plot 2: Average pricing for Property Type w.r.to City\n",
        "train_df.pivot_table(values='int_price',index='property_type',columns='city')\n"
      ],
      "execution_count": null,
      "outputs": [
        {
          "output_type": "execute_result",
          "data": {
            "text/html": [
              "<div>\n",
              "<style scoped>\n",
              "    .dataframe tbody tr th:only-of-type {\n",
              "        vertical-align: middle;\n",
              "    }\n",
              "\n",
              "    .dataframe tbody tr th {\n",
              "        vertical-align: top;\n",
              "    }\n",
              "\n",
              "    .dataframe thead th {\n",
              "        text-align: right;\n",
              "    }\n",
              "</style>\n",
              "<table border=\"1\" class=\"dataframe\">\n",
              "  <thead>\n",
              "    <tr style=\"text-align: right;\">\n",
              "      <th>city</th>\n",
              "      <th>Boston</th>\n",
              "      <th>Chicago</th>\n",
              "      <th>DC</th>\n",
              "      <th>LA</th>\n",
              "      <th>NYC</th>\n",
              "      <th>SF</th>\n",
              "    </tr>\n",
              "    <tr>\n",
              "      <th>property_type</th>\n",
              "      <th></th>\n",
              "      <th></th>\n",
              "      <th></th>\n",
              "      <th></th>\n",
              "      <th></th>\n",
              "      <th></th>\n",
              "    </tr>\n",
              "  </thead>\n",
              "  <tbody>\n",
              "    <tr>\n",
              "      <th>Apartment</th>\n",
              "      <td>168.886029</td>\n",
              "      <td>121.995831</td>\n",
              "      <td>200.557457</td>\n",
              "      <td>123.046893</td>\n",
              "      <td>139.452941</td>\n",
              "      <td>215.783761</td>\n",
              "    </tr>\n",
              "    <tr>\n",
              "      <th>Bed &amp; Breakfast</th>\n",
              "      <td>99.857143</td>\n",
              "      <td>83.090909</td>\n",
              "      <td>151.827586</td>\n",
              "      <td>101.832298</td>\n",
              "      <td>138.972603</td>\n",
              "      <td>165.218750</td>\n",
              "    </tr>\n",
              "    <tr>\n",
              "      <th>Boat</th>\n",
              "      <td>477.200000</td>\n",
              "      <td>301.428571</td>\n",
              "      <td>80.000000</td>\n",
              "      <td>202.764706</td>\n",
              "      <td>180.333333</td>\n",
              "      <td>606.333333</td>\n",
              "    </tr>\n",
              "    <tr>\n",
              "      <th>Boutique hotel</th>\n",
              "      <td>149.000000</td>\n",
              "      <td>209.571429</td>\n",
              "      <td>136.333333</td>\n",
              "      <td>92.000000</td>\n",
              "      <td>281.692308</td>\n",
              "      <td>155.833333</td>\n",
              "    </tr>\n",
              "    <tr>\n",
              "      <th>Bungalow</th>\n",
              "      <td>NaN</td>\n",
              "      <td>119.500000</td>\n",
              "      <td>172.500000</td>\n",
              "      <td>132.893878</td>\n",
              "      <td>159.000000</td>\n",
              "      <td>133.000000</td>\n",
              "    </tr>\n",
              "    <tr>\n",
              "      <th>Cabin</th>\n",
              "      <td>NaN</td>\n",
              "      <td>NaN</td>\n",
              "      <td>110.000000</td>\n",
              "      <td>96.146341</td>\n",
              "      <td>250.000000</td>\n",
              "      <td>145.333333</td>\n",
              "    </tr>\n",
              "    <tr>\n",
              "      <th>Camper/RV</th>\n",
              "      <td>NaN</td>\n",
              "      <td>NaN</td>\n",
              "      <td>NaN</td>\n",
              "      <td>138.051724</td>\n",
              "      <td>NaN</td>\n",
              "      <td>143.200000</td>\n",
              "    </tr>\n",
              "    <tr>\n",
              "      <th>Casa particular</th>\n",
              "      <td>NaN</td>\n",
              "      <td>NaN</td>\n",
              "      <td>NaN</td>\n",
              "      <td>80.000000</td>\n",
              "      <td>NaN</td>\n",
              "      <td>NaN</td>\n",
              "    </tr>\n",
              "    <tr>\n",
              "      <th>Castle</th>\n",
              "      <td>NaN</td>\n",
              "      <td>NaN</td>\n",
              "      <td>199.000000</td>\n",
              "      <td>285.833333</td>\n",
              "      <td>NaN</td>\n",
              "      <td>145.000000</td>\n",
              "    </tr>\n",
              "    <tr>\n",
              "      <th>Cave</th>\n",
              "      <td>NaN</td>\n",
              "      <td>NaN</td>\n",
              "      <td>NaN</td>\n",
              "      <td>125.000000</td>\n",
              "      <td>NaN</td>\n",
              "      <td>NaN</td>\n",
              "    </tr>\n",
              "    <tr>\n",
              "      <th>Chalet</th>\n",
              "      <td>NaN</td>\n",
              "      <td>NaN</td>\n",
              "      <td>NaN</td>\n",
              "      <td>NaN</td>\n",
              "      <td>150.000000</td>\n",
              "      <td>NaN</td>\n",
              "    </tr>\n",
              "    <tr>\n",
              "      <th>Condominium</th>\n",
              "      <td>187.343750</td>\n",
              "      <td>140.918519</td>\n",
              "      <td>299.065116</td>\n",
              "      <td>147.041304</td>\n",
              "      <td>205.925094</td>\n",
              "      <td>273.885449</td>\n",
              "    </tr>\n",
              "    <tr>\n",
              "      <th>Dorm</th>\n",
              "      <td>50.000000</td>\n",
              "      <td>51.000000</td>\n",
              "      <td>49.384615</td>\n",
              "      <td>45.517857</td>\n",
              "      <td>82.909091</td>\n",
              "      <td>95.818182</td>\n",
              "    </tr>\n",
              "    <tr>\n",
              "      <th>Earth House</th>\n",
              "      <td>NaN</td>\n",
              "      <td>NaN</td>\n",
              "      <td>NaN</td>\n",
              "      <td>542.500000</td>\n",
              "      <td>NaN</td>\n",
              "      <td>NaN</td>\n",
              "    </tr>\n",
              "    <tr>\n",
              "      <th>Guest suite</th>\n",
              "      <td>120.000000</td>\n",
              "      <td>71.000000</td>\n",
              "      <td>71.750000</td>\n",
              "      <td>121.090909</td>\n",
              "      <td>128.296296</td>\n",
              "      <td>150.529412</td>\n",
              "    </tr>\n",
              "    <tr>\n",
              "      <th>Guesthouse</th>\n",
              "      <td>154.500000</td>\n",
              "      <td>131.125000</td>\n",
              "      <td>156.500000</td>\n",
              "      <td>121.559259</td>\n",
              "      <td>63.750000</td>\n",
              "      <td>172.857143</td>\n",
              "    </tr>\n",
              "    <tr>\n",
              "      <th>Hostel</th>\n",
              "      <td>130.000000</td>\n",
              "      <td>60.000000</td>\n",
              "      <td>36.000000</td>\n",
              "      <td>26.259259</td>\n",
              "      <td>81.800000</td>\n",
              "      <td>85.500000</td>\n",
              "    </tr>\n",
              "    <tr>\n",
              "      <th>House</th>\n",
              "      <td>144.851752</td>\n",
              "      <td>139.555270</td>\n",
              "      <td>241.085714</td>\n",
              "      <td>191.988845</td>\n",
              "      <td>127.700396</td>\n",
              "      <td>234.520963</td>\n",
              "    </tr>\n",
              "    <tr>\n",
              "      <th>Hut</th>\n",
              "      <td>NaN</td>\n",
              "      <td>NaN</td>\n",
              "      <td>NaN</td>\n",
              "      <td>57.000000</td>\n",
              "      <td>NaN</td>\n",
              "      <td>NaN</td>\n",
              "    </tr>\n",
              "    <tr>\n",
              "      <th>In-law</th>\n",
              "      <td>104.500000</td>\n",
              "      <td>45.000000</td>\n",
              "      <td>92.000000</td>\n",
              "      <td>71.000000</td>\n",
              "      <td>116.000000</td>\n",
              "      <td>150.388889</td>\n",
              "    </tr>\n",
              "    <tr>\n",
              "      <th>Lighthouse</th>\n",
              "      <td>NaN</td>\n",
              "      <td>NaN</td>\n",
              "      <td>NaN</td>\n",
              "      <td>250.000000</td>\n",
              "      <td>NaN</td>\n",
              "      <td>NaN</td>\n",
              "    </tr>\n",
              "    <tr>\n",
              "      <th>Loft</th>\n",
              "      <td>205.588235</td>\n",
              "      <td>180.891304</td>\n",
              "      <td>305.150000</td>\n",
              "      <td>190.708633</td>\n",
              "      <td>218.140811</td>\n",
              "      <td>265.092593</td>\n",
              "    </tr>\n",
              "    <tr>\n",
              "      <th>Other</th>\n",
              "      <td>185.793103</td>\n",
              "      <td>338.086956</td>\n",
              "      <td>216.058824</td>\n",
              "      <td>199.025641</td>\n",
              "      <td>190.338843</td>\n",
              "      <td>275.000000</td>\n",
              "    </tr>\n",
              "    <tr>\n",
              "      <th>Parking Space</th>\n",
              "      <td>NaN</td>\n",
              "      <td>NaN</td>\n",
              "      <td>NaN</td>\n",
              "      <td>100.000000</td>\n",
              "      <td>NaN</td>\n",
              "      <td>NaN</td>\n",
              "    </tr>\n",
              "    <tr>\n",
              "      <th>Serviced apartment</th>\n",
              "      <td>129.000000</td>\n",
              "      <td>NaN</td>\n",
              "      <td>135.000000</td>\n",
              "      <td>148.777778</td>\n",
              "      <td>203.750000</td>\n",
              "      <td>1200.000000</td>\n",
              "    </tr>\n",
              "    <tr>\n",
              "      <th>Tent</th>\n",
              "      <td>NaN</td>\n",
              "      <td>NaN</td>\n",
              "      <td>NaN</td>\n",
              "      <td>78.000000</td>\n",
              "      <td>250.000000</td>\n",
              "      <td>98.000000</td>\n",
              "    </tr>\n",
              "    <tr>\n",
              "      <th>Timeshare</th>\n",
              "      <td>245.000000</td>\n",
              "      <td>NaN</td>\n",
              "      <td>NaN</td>\n",
              "      <td>NaN</td>\n",
              "      <td>317.500000</td>\n",
              "      <td>299.210526</td>\n",
              "    </tr>\n",
              "    <tr>\n",
              "      <th>Tipi</th>\n",
              "      <td>NaN</td>\n",
              "      <td>NaN</td>\n",
              "      <td>NaN</td>\n",
              "      <td>425.000000</td>\n",
              "      <td>NaN</td>\n",
              "      <td>NaN</td>\n",
              "    </tr>\n",
              "    <tr>\n",
              "      <th>Townhouse</th>\n",
              "      <td>171.970588</td>\n",
              "      <td>147.175000</td>\n",
              "      <td>251.446512</td>\n",
              "      <td>142.634085</td>\n",
              "      <td>191.648456</td>\n",
              "      <td>212.594595</td>\n",
              "    </tr>\n",
              "    <tr>\n",
              "      <th>Train</th>\n",
              "      <td>NaN</td>\n",
              "      <td>NaN</td>\n",
              "      <td>170.000000</td>\n",
              "      <td>NaN</td>\n",
              "      <td>NaN</td>\n",
              "      <td>NaN</td>\n",
              "    </tr>\n",
              "    <tr>\n",
              "      <th>Treehouse</th>\n",
              "      <td>NaN</td>\n",
              "      <td>NaN</td>\n",
              "      <td>25.000000</td>\n",
              "      <td>368.500000</td>\n",
              "      <td>NaN</td>\n",
              "      <td>60.000000</td>\n",
              "    </tr>\n",
              "    <tr>\n",
              "      <th>Vacation home</th>\n",
              "      <td>NaN</td>\n",
              "      <td>NaN</td>\n",
              "      <td>NaN</td>\n",
              "      <td>188.000000</td>\n",
              "      <td>326.000000</td>\n",
              "      <td>NaN</td>\n",
              "    </tr>\n",
              "    <tr>\n",
              "      <th>Villa</th>\n",
              "      <td>125.000000</td>\n",
              "      <td>33.000000</td>\n",
              "      <td>NaN</td>\n",
              "      <td>439.145631</td>\n",
              "      <td>107.125000</td>\n",
              "      <td>99.000000</td>\n",
              "    </tr>\n",
              "    <tr>\n",
              "      <th>Yurt</th>\n",
              "      <td>NaN</td>\n",
              "      <td>NaN</td>\n",
              "      <td>NaN</td>\n",
              "      <td>168.600000</td>\n",
              "      <td>95.000000</td>\n",
              "      <td>87.000000</td>\n",
              "    </tr>\n",
              "  </tbody>\n",
              "</table>\n",
              "</div>"
            ],
            "text/plain": [
              "city                    Boston     Chicago          DC          LA  \\\n",
              "property_type                                                        \n",
              "Apartment           168.886029  121.995831  200.557457  123.046893   \n",
              "Bed & Breakfast      99.857143   83.090909  151.827586  101.832298   \n",
              "Boat                477.200000  301.428571   80.000000  202.764706   \n",
              "Boutique hotel      149.000000  209.571429  136.333333   92.000000   \n",
              "Bungalow                   NaN  119.500000  172.500000  132.893878   \n",
              "Cabin                      NaN         NaN  110.000000   96.146341   \n",
              "Camper/RV                  NaN         NaN         NaN  138.051724   \n",
              "Casa particular            NaN         NaN         NaN   80.000000   \n",
              "Castle                     NaN         NaN  199.000000  285.833333   \n",
              "Cave                       NaN         NaN         NaN  125.000000   \n",
              "Chalet                     NaN         NaN         NaN         NaN   \n",
              "Condominium         187.343750  140.918519  299.065116  147.041304   \n",
              "Dorm                 50.000000   51.000000   49.384615   45.517857   \n",
              "Earth House                NaN         NaN         NaN  542.500000   \n",
              "Guest suite         120.000000   71.000000   71.750000  121.090909   \n",
              "Guesthouse          154.500000  131.125000  156.500000  121.559259   \n",
              "Hostel              130.000000   60.000000   36.000000   26.259259   \n",
              "House               144.851752  139.555270  241.085714  191.988845   \n",
              "Hut                        NaN         NaN         NaN   57.000000   \n",
              "In-law              104.500000   45.000000   92.000000   71.000000   \n",
              "Lighthouse                 NaN         NaN         NaN  250.000000   \n",
              "Loft                205.588235  180.891304  305.150000  190.708633   \n",
              "Other               185.793103  338.086956  216.058824  199.025641   \n",
              "Parking Space              NaN         NaN         NaN  100.000000   \n",
              "Serviced apartment  129.000000         NaN  135.000000  148.777778   \n",
              "Tent                       NaN         NaN         NaN   78.000000   \n",
              "Timeshare           245.000000         NaN         NaN         NaN   \n",
              "Tipi                       NaN         NaN         NaN  425.000000   \n",
              "Townhouse           171.970588  147.175000  251.446512  142.634085   \n",
              "Train                      NaN         NaN  170.000000         NaN   \n",
              "Treehouse                  NaN         NaN   25.000000  368.500000   \n",
              "Vacation home              NaN         NaN         NaN  188.000000   \n",
              "Villa               125.000000   33.000000         NaN  439.145631   \n",
              "Yurt                       NaN         NaN         NaN  168.600000   \n",
              "\n",
              "city                       NYC           SF  \n",
              "property_type                                \n",
              "Apartment           139.452941   215.783761  \n",
              "Bed & Breakfast     138.972603   165.218750  \n",
              "Boat                180.333333   606.333333  \n",
              "Boutique hotel      281.692308   155.833333  \n",
              "Bungalow            159.000000   133.000000  \n",
              "Cabin               250.000000   145.333333  \n",
              "Camper/RV                  NaN   143.200000  \n",
              "Casa particular            NaN          NaN  \n",
              "Castle                     NaN   145.000000  \n",
              "Cave                       NaN          NaN  \n",
              "Chalet              150.000000          NaN  \n",
              "Condominium         205.925094   273.885449  \n",
              "Dorm                 82.909091    95.818182  \n",
              "Earth House                NaN          NaN  \n",
              "Guest suite         128.296296   150.529412  \n",
              "Guesthouse           63.750000   172.857143  \n",
              "Hostel               81.800000    85.500000  \n",
              "House               127.700396   234.520963  \n",
              "Hut                        NaN          NaN  \n",
              "In-law              116.000000   150.388889  \n",
              "Lighthouse                 NaN          NaN  \n",
              "Loft                218.140811   265.092593  \n",
              "Other               190.338843   275.000000  \n",
              "Parking Space              NaN          NaN  \n",
              "Serviced apartment  203.750000  1200.000000  \n",
              "Tent                250.000000    98.000000  \n",
              "Timeshare           317.500000   299.210526  \n",
              "Tipi                       NaN          NaN  \n",
              "Townhouse           191.648456   212.594595  \n",
              "Train                      NaN          NaN  \n",
              "Treehouse                  NaN    60.000000  \n",
              "Vacation home       326.000000          NaN  \n",
              "Villa               107.125000    99.000000  \n",
              "Yurt                 95.000000    87.000000  "
            ]
          },
          "metadata": {
            "tags": []
          },
          "execution_count": 9
        }
      ]
    },
    {
      "cell_type": "code",
      "metadata": {
        "id": "B6oeX8K-fXdy",
        "outputId": "baf95f80-6231-4c37-8d23-3abe2bbca8dd"
      },
      "source": [
        "\n",
        "plt.figure(figsize=(20,10))\n",
        "pivot_df = train_df.pivot_table(values='int_price',index='property_type',columns='city')\n",
        "plot2 = sns.heatmap(pivot_df)\n",
        "fig = plot2.get_figure()\n",
        "fig.savefig('./plot2.png')"
      ],
      "execution_count": null,
      "outputs": [
        {
          "output_type": "display_data",
          "data": {
            "image/png": "[encoded data removed]",
            "text/plain": [
              "<Figure size 1440x720 with 2 Axes>"
            ]
          },
          "metadata": {
            "tags": [],
            "needs_background": "light"
          }
        }
      ]
    },
    {
      "cell_type": "markdown",
      "metadata": {
        "id": "XAsR7WmofXd5"
      },
      "source": [
        "# DATA PREPROCESSING"
      ]
    },
    {
      "cell_type": "code",
      "metadata": {
        "id": "MjZ4-bpufXd6"
      },
      "source": [
        "train_df.to_csv('new_train.csv', encoding='utf-8', index=False)\n",
        "test_df.to_csv('new_test.csv', encoding='utf-8', index=False)\n"
      ],
      "execution_count": null,
      "outputs": []
    },
    {
      "cell_type": "code",
      "metadata": {
        "id": "Me_gcZIWfXeA"
      },
      "source": [
        "Rtrain_df = pd.read_csv('new_train.csv')\n",
        "Rtest_df = pd.read_csv('new_test.csv')"
      ],
      "execution_count": null,
      "outputs": []
    },
    {
      "cell_type": "code",
      "metadata": {
        "id": "jnZgNgiafXeF"
      },
      "source": [
        "#Drop out features which has no effects on the pricing\n",
        "\n",
        "Rtrain_df.drop(['int_price'], axis =1, inplace=True)\n",
        "\n",
        "Rtrain_df.drop([' '],axis=1 ,inplace=True)\n",
        "Rtest_df.drop([' '],axis=1 ,inplace=True)\n",
        "\n",
        "Rtrain_df.drop(['id'], axis =1, inplace=True)\n",
        "Rtest_df.drop(['id'], axis =1, inplace=True)\n",
        "\n",
        "Rtrain_df.drop(['log_price'], axis =1, inplace=True)\n",
        "\n",
        "Rtrain_df.drop(['neighbourhood'], axis =1, inplace=True)\n",
        "Rtest_df.drop(['neighbourhood'], axis =1, inplace=True)\n",
        "\n",
        "Rtrain_df.drop(['description'], axis =1, inplace=True)\n",
        "Rtest_df.drop(['description'], axis =1, inplace=True)\n",
        "\n",
        "Rtrain_df.drop(['first_review'], axis =1, inplace=True)\n",
        "Rtest_df.drop(['first_review'], axis =1, inplace=True)\n",
        "\n",
        "Rtrain_df.drop(['last_review'], axis =1, inplace=True)\n",
        "Rtest_df.drop(['last_review'], axis =1, inplace=True)\n",
        "\n",
        "Rtrain_df.drop(['host_since'], axis =1, inplace=True)\n",
        "Rtest_df.drop(['host_since'], axis =1, inplace=True)\n",
        "\n",
        "Rtrain_df.drop(['thumbnail_url'], axis =1, inplace=True)\n",
        "Rtest_df.drop(['thumbnail_url'], axis =1, inplace=True)\n",
        "\n",
        "Rtrain_df.drop(['zipcode'], axis =1, inplace=True)\n",
        "Rtest_df.drop(['zipcode'], axis =1, inplace=True)\n",
        "\n",
        "Rtrain_df.drop(['amenities'], axis =1, inplace=True)\n",
        "Rtest_df.drop(['amenities'], axis =1, inplace=True)\n",
        "\n",
        "Rtrain_df.drop(['name'], axis =1, inplace=True)\n",
        "Rtest_df.drop(['name'], axis =1, inplace=True)\n",
        "\n",
        "Rtrain_df.drop(['latitude'], axis =1, inplace=True)\n",
        "Rtest_df.drop(['latitude'], axis =1, inplace=True)\n",
        "\n",
        "Rtrain_df.drop(['longitude'], axis =1, inplace=True)\n",
        "Rtest_df.drop(['longitude'], axis =1, inplace=True)\n",
        "\n",
        "Rtrain_df.drop(['instant_bookable'], axis =1, inplace=True)\n",
        "Rtest_df.drop(['instant_bookable'], axis =1, inplace=True)"
      ],
      "execution_count": null,
      "outputs": []
    },
    {
      "cell_type": "code",
      "metadata": {
        "id": "A1x3YDQTfXeM",
        "outputId": "2e10e0da-ee62-465f-fbc3-206f208a56fd"
      },
      "source": [
        "\n",
        "Rtrain_df.dtypes"
      ],
      "execution_count": null,
      "outputs": [
        {
          "output_type": "execute_result",
          "data": {
            "text/plain": [
              "property_type              object\n",
              "room_type                  object\n",
              "accommodates                int64\n",
              "bathrooms                 float64\n",
              "bed_type                   object\n",
              "cancellation_policy        object\n",
              "cleaning_fee                 bool\n",
              "city                       object\n",
              "host_has_profile_pic        int64\n",
              "host_identity_verified      int64\n",
              "host_response_rate          int64\n",
              "number_of_reviews           int64\n",
              "review_scores_rating      float64\n",
              "bedrooms                  float64\n",
              "beds                      float64\n",
              "dtype: object"
            ]
          },
          "metadata": {
            "tags": []
          },
          "execution_count": 14
        }
      ]
    },
    {
      "cell_type": "code",
      "metadata": {
        "id": "yOtWRwx5fXeT",
        "outputId": "c871fd3c-5765-491f-a1f8-87c1f0b0b662"
      },
      "source": [
        "rtrain_df = Rtrain_df.copy()\n",
        "rtest_df = Rtest_df.copy()\n",
        "print(rtrain_df.shape)\n",
        "print(rtest_df.shape)"
      ],
      "execution_count": null,
      "outputs": [
        {
          "output_type": "stream",
          "text": [
            "(49999, 15)\n",
            "(24111, 15)\n"
          ],
          "name": "stdout"
        }
      ]
    },
    {
      "cell_type": "markdown",
      "metadata": {
        "id": "mr3jBHkvfXeZ"
      },
      "source": [
        "# One Hot Encoding required features from Train and Test Data"
      ]
    },
    {
      "cell_type": "code",
      "metadata": {
        "id": "qFXPlVzLfXed"
      },
      "source": [
        "def one_hot(train_df,test_df,columns):\n",
        "    \n",
        "    for i,column in enumerate(columns):\n",
        "        Xtrain = train_df[str(column)].T\n",
        "        Xtest = test_df[str(column)].T\n",
        "        \n",
        "        # train_df\n",
        "        lb=LabelBinarizer()\n",
        "        lb.fit(Xtrain)\n",
        "        X_classes = len(lb.classes_)\n",
        "        Xenc = lb.transform(Xtrain)\n",
        "        Xtrain_enc = pd.DataFrame(data = Xenc, columns = lb.classes_)\n",
        "        train_df.drop([str(column)], axis =1, inplace=True)\n",
        "        \n",
        "        # test_df\n",
        "        Xenc = lb.transform(Xtest)\n",
        "        Xtest_enc = pd.DataFrame(data = Xenc, columns = lb.classes_)\n",
        "        test_df.drop([str(column)], axis =1, inplace=True)\n",
        "        \n",
        "        print('Number of classes in '+str(column)+ ' = '+ str(X_classes))\n",
        "        train_df = pd.concat((train_df,Xtrain_enc),axis=1)\n",
        "        test_df = pd.concat((test_df,Xtest_enc),axis=1) \n",
        "    return train_df,test_df"
      ],
      "execution_count": null,
      "outputs": []
    },
    {
      "cell_type": "code",
      "metadata": {
        "id": "StitRNIafXei",
        "outputId": "de10782c-6b30-4ad2-a998-282c54f0ef84"
      },
      "source": [
        "r_train_df , r_test_df = one_hot(rtrain_df,rtest_df,['city','property_type', 'room_type', 'bed_type', 'cancellation_policy', 'host_response_rate'])"
      ],
      "execution_count": null,
      "outputs": [
        {
          "output_type": "stream",
          "text": [
            "Number of classes in city = 6\n",
            "Number of classes in property_type = 34\n",
            "Number of classes in room_type = 3\n",
            "Number of classes in bed_type = 5\n",
            "Number of classes in cancellation_policy = 5\n",
            "Number of classes in host_response_rate = 77\n"
          ],
          "name": "stdout"
        }
      ]
    },
    {
      "cell_type": "code",
      "metadata": {
        "id": "TlWt8XIOfXeo",
        "outputId": "b4802636-9185-4140-fac3-51730199745c"
      },
      "source": [
        "print(r_train_df.shape)\n",
        "print(r_test_df.shape)"
      ],
      "execution_count": null,
      "outputs": [
        {
          "output_type": "stream",
          "text": [
            "(49999, 139)\n",
            "(24111, 139)\n"
          ],
          "name": "stdout"
        }
      ]
    },
    {
      "cell_type": "markdown",
      "metadata": {
        "id": "FSYOrLHOfXet"
      },
      "source": [
        "# FEATURE SELECTION"
      ]
    },
    {
      "cell_type": "code",
      "metadata": {
        "id": "6SZCUYXGfXeu",
        "outputId": "82f0ceeb-3bce-415e-c615-855b3d7741fe"
      },
      "source": [
        "#Principal Component Analysis (PCA)\n",
        "pca = PCA()\n",
        "pca_fit = pca.fit_transform(r_train_df)\n",
        "pca_fit.shape"
      ],
      "execution_count": null,
      "outputs": [
        {
          "output_type": "execute_result",
          "data": {
            "text/plain": [
              "(49999, 139)"
            ]
          },
          "metadata": {
            "tags": []
          },
          "execution_count": 33
        }
      ]
    },
    {
      "cell_type": "markdown",
      "metadata": {
        "id": "-l_NXYODfXe1"
      },
      "source": [
        "# MODEL IMPLEMENTATION"
      ]
    },
    {
      "cell_type": "markdown",
      "metadata": {
        "id": "zCxqx44kfXe2"
      },
      "source": [
        "# Linear Regression"
      ]
    },
    {
      "cell_type": "code",
      "metadata": {
        "id": "b5KPJ7cJfXe3"
      },
      "source": [
        "from sklearn.metrics import mean_squared_error as rmse"
      ],
      "execution_count": null,
      "outputs": []
    },
    {
      "cell_type": "code",
      "metadata": {
        "id": "eU6yWdVSfXe9"
      },
      "source": [
        "X = pca_fit\n",
        "y = train_df['log_price']\n"
      ],
      "execution_count": null,
      "outputs": []
    },
    {
      "cell_type": "code",
      "metadata": {
        "id": "g0Mgxql5fXfC",
        "outputId": "2a5b86cc-1b8a-48f2-e169-bb30cc2beb07"
      },
      "source": [
        "kfold = KFold(n_splits=10,random_state=56,shuffle=True)\n",
        "average = 0\n",
        "for train_idx, test_idx in kfold.split(X,y):    \n",
        "    X_train, X_CV = X[train_idx], X[test_idx]\n",
        "    y_train, y_CV = y[train_idx], y[test_idx]\n",
        "    \n",
        "    lr = LinearRegression()\n",
        "    lr.fit(X_train, y_train)\n",
        "        \n",
        "    pred_CV = lr.predict(X_CV)\n",
        "    RMSE = rmse(y_CV, pred_CV)\n",
        "    average = average + RMSE   \n",
        "   \n",
        "  print('RMSE = ',RMSE)\n",
        "\n",
        "RMSE_AVG = average/10\n",
        "\n",
        "print('*---------------------------*')\n",
        "print('Average RMSE = ',RMSE_AVG)"
      ],
      "execution_count": null,
      "outputs": [
        {
          "output_type": "stream",
          "text": [
            "RMSE =  0.21938948688645687\n",
            "RMSE =  0.22570876351553384\n",
            "RMSE =  0.2292291958406835\n",
            "RMSE =  0.21908765666713362\n",
            "RMSE =  2.03410051237892e+19\n",
            "RMSE =  0.21936414906397358\n",
            "RMSE =  0.22261605951477795\n",
            "RMSE =  0.21965099381736167\n",
            "RMSE =  6.086330946901121e+18\n",
            "RMSE =  0.21801788460972799\n",
            "*---------------------------*\n",
            "Average RMSE =  2.6427336070690324e+18\n"
          ],
          "name": "stdout"
        }
      ]
    },
    {
      "cell_type": "markdown",
      "metadata": {
        "id": "oESnqXgqfXfH"
      },
      "source": [
        "# Ridge Regression"
      ]
    },
    {
      "cell_type": "code",
      "metadata": {
        "id": "H9k9d8hEfXfI",
        "outputId": "727caeb1-26d9-4c58-e57c-84f4ba52cda1"
      },
      "source": [
        "kfold = KFold(n_splits=10,random_state=56,shuffle=True)\n",
        "average = 0\n",
        "for train_idx, test_idx in kfold.split(X,y):    \n",
        "    X_train, X_CV = X[train_idx], X[test_idx]\n",
        "    y_train, y_CV = y[train_idx], y[test_idx]\n",
        "    \n",
        "    \n",
        "    ridge = Ridge()\n",
        "    ridge.fit(X_train, y_train)\n",
        "        \n",
        "    pred_CV = ridge.predict(X_CV)\n",
        "    RMSE = rmse(y_CV, pred_CV)\n",
        "    average = average + RMSE\n",
        " \n",
        "    print('RMSE = ',RMSE)\n",
        "\n",
        "RMSE_AVG = average/10\n",
        "\n",
        "print('*---------------------------*')\n",
        "print('Average RMSE = ',RMSE_AVG)"
      ],
      "execution_count": null,
      "outputs": [
        {
          "output_type": "stream",
          "text": [
            "RMSE =  0.21938031771030683\n",
            "RMSE =  0.22182574912623926\n",
            "RMSE =  0.2291675389269997\n",
            "RMSE =  0.21910970706396102\n",
            "RMSE =  0.21803126804315298\n",
            "RMSE =  0.21930881365042615\n",
            "RMSE =  0.22244370454858844\n",
            "RMSE =  0.21966036336260014\n",
            "RMSE =  0.23106919601881892\n",
            "RMSE =  0.2174496294012312\n",
            "*---------------------------*\n",
            "Average RMSE =  0.2217446287852325\n"
          ],
          "name": "stdout"
        }
      ]
    },
    {
      "cell_type": "markdown",
      "metadata": {
        "id": "2cbl7Y90fXfN"
      },
      "source": [
        "# Lasso Regression"
      ]
    },
    {
      "cell_type": "code",
      "metadata": {
        "scrolled": true,
        "id": "hBR-KO1wfXfO",
        "outputId": "6594d19f-0bfe-4644-c61a-387d404f378d"
      },
      "source": [
        "kfold = KFold(n_splits=10,random_state=56,shuffle=True)\n",
        "average = 0\n",
        "for train_idx, test_idx in kfold.split(X,y):    \n",
        "    X_train, X_CV = X[train_idx], X[test_idx]\n",
        "    y_train, y_CV = y[train_idx], y[test_idx]\n",
        "    \n",
        "    lasso=Lasso(0.0001)\n",
        "    lasso.fit(X_train, y_train)\n",
        "        \n",
        "    pred_CV = lasso.predict(X_CV)\n",
        "    RMSE = rmse(y_CV, pred_CV)\n",
        "    average = average + RMSE\n",
        "\n",
        "   \n",
        "    print('RMSE = ',RMSE)\n",
        "\n",
        "RMSE_AVG = average/10\n",
        "\n",
        "print('*---------------------------*')\n",
        "print('Average RMSE = ',RMSE_AVG)"
      ],
      "execution_count": null,
      "outputs": [
        {
          "output_type": "stream",
          "text": [
            "RMSE =  0.22015440074263612\n",
            "RMSE =  0.22222456921096922\n",
            "RMSE =  0.2290904700286781\n",
            "RMSE =  0.2195344125537014\n",
            "RMSE =  0.2174233719475952\n",
            "RMSE =  0.21901047368468157\n",
            "RMSE =  0.22223615962294452\n",
            "RMSE =  0.21994129900081524\n",
            "RMSE =  0.23104205121981136\n",
            "RMSE =  0.217068506683371\n",
            "*---------------------------*\n",
            "Average RMSE =  0.22177257146952037\n"
          ],
          "name": "stdout"
        }
      ]
    },
    {
      "cell_type": "markdown",
      "metadata": {
        "id": "lEdJDYz5fXfT"
      },
      "source": [
        "# GRID SEARCH TECHNIQUE"
      ]
    },
    {
      "cell_type": "code",
      "metadata": {
        "id": "zHhKk9x5fXfU",
        "outputId": "09a9d421-9b69-469b-aa04-5d997b85bdd9"
      },
      "source": [
        "parameters = {\"alpha\":np.logspace(-2,2,50)}\n",
        "lasso_grid = GridSearchCV(lasso, parameters, cv=10) \n",
        "lasso_grid.fit(X,y)\n",
        "\n",
        "print('Hyper Parameters for Lasso:\\n',lasso_grid.best_params_)\n",
        "print('Score for Hyper Parameters from Grid Search:',lasso_grid.best_score_)\n",
        "lasso_grid.cv_results_"
      ],
      "execution_count": null,
      "outputs": [
        {
          "output_type": "stream",
          "text": [
            "Hyper Parameters for Lasso:\n",
            " {'alpha': 0.01}\n",
            "Score for Hyper Parameters from Grid Search: 0.5332518382155854\n"
          ],
          "name": "stdout"
        },
        {
          "output_type": "execute_result",
          "data": {
            "text/plain": [
              "{'mean_fit_time': array([0.22503929, 0.22164326, 0.21883564, 0.2258842 , 0.25473905,\n",
              "        0.25576091, 0.27338524, 0.25531483, 0.22057076, 0.24127007,\n",
              "        0.23158114, 0.23939612, 0.2316097 , 0.21792128, 0.2560288 ,\n",
              "        0.29231832, 0.33435686, 0.28279796, 0.28136172, 0.25383832,\n",
              "        0.23331056, 0.23642211, 0.21979029, 0.21221378, 0.21573298,\n",
              "        0.22798152, 0.21916957, 0.21125209, 0.22012837, 0.22972469,\n",
              "        0.21957247, 0.25038688, 0.22927039, 0.20775414, 0.23255308,\n",
              "        0.27225051, 0.21244805, 0.24502432, 0.24680929, 0.26827767,\n",
              "        0.22466848, 0.22937012, 0.2403502 , 0.23398206, 0.28552864,\n",
              "        0.25786226, 0.25832307, 0.28567519, 0.27580104, 0.27660646]),\n",
              " 'std_fit_time': array([0.01883192, 0.00892381, 0.01242344, 0.01613811, 0.01908546,\n",
              "        0.01925009, 0.02536037, 0.01937882, 0.01900088, 0.02565392,\n",
              "        0.02613868, 0.02073874, 0.01554568, 0.01898088, 0.01786863,\n",
              "        0.03334551, 0.03839448, 0.01695973, 0.0213578 , 0.0296771 ,\n",
              "        0.02778773, 0.02391904, 0.01299289, 0.00850678, 0.01972704,\n",
              "        0.01999941, 0.01385566, 0.01137292, 0.02184076, 0.01479937,\n",
              "        0.01520001, 0.04754741, 0.03920245, 0.00975627, 0.0137218 ,\n",
              "        0.05697088, 0.0141302 , 0.0554868 , 0.03257724, 0.04335642,\n",
              "        0.0187117 , 0.02237986, 0.01886168, 0.01653174, 0.02653925,\n",
              "        0.0218545 , 0.02830128, 0.0427303 , 0.0215962 , 0.03490533]),\n",
              " 'mean_score_time': array([0.00479727, 0.00161831, 0.00169156, 0.00156395, 0.00341558,\n",
              "        0.0033185 , 0.00144765, 0.00594063, 0.0035641 , 0.00276599,\n",
              "        0.00374269, 0.00178258, 0.00241303, 0.00303164, 0.00326056,\n",
              "        0.00380588, 0.00332882, 0.00353091, 0.0032696 , 0.00267704,\n",
              "        0.00209148, 0.0026123 , 0.00179029, 0.00326836, 0.00723879,\n",
              "        0.00562956, 0.00324862, 0.00261021, 0.00212708, 0.00156124,\n",
              "        0.00277777, 0.0026727 , 0.00504439, 0.00492389, 0.00242426,\n",
              "        0.0025984 , 0.00256944, 0.00482647, 0.00169244, 0.00421619,\n",
              "        0.00209122, 0.00281997, 0.00334923, 0.00236733, 0.00621536,\n",
              "        0.002123  , 0.00308185, 0.00538263, 0.0042752 , 0.00331991]),\n",
              " 'std_score_time': array([0.0073333 , 0.00323671, 0.00507467, 0.00469186, 0.00331847,\n",
              "        0.00278335, 0.00182652, 0.00597916, 0.0054328 , 0.00429161,\n",
              "        0.00356115, 0.00185947, 0.00297514, 0.00386445, 0.00269051,\n",
              "        0.00304621, 0.00125198, 0.00331728, 0.00317707, 0.00301777,\n",
              "        0.00323442, 0.00456837, 0.00537086, 0.00654389, 0.00730567,\n",
              "        0.00700806, 0.00650285, 0.0050866 , 0.00463935, 0.00262575,\n",
              "        0.00453454, 0.00465032, 0.00693223, 0.00731686, 0.00502156,\n",
              "        0.0023477 , 0.00502326, 0.00423932, 0.0030372 , 0.00266016,\n",
              "        0.00463609, 0.0038325 , 0.00556888, 0.00184462, 0.00441938,\n",
              "        0.00261821, 0.00309017, 0.00372678, 0.00367559, 0.00480085]),\n",
              " 'param_alpha': masked_array(data=[0.01, 0.012067926406393288, 0.014563484775012436,\n",
              "                    0.017575106248547922, 0.021209508879201904,\n",
              "                    0.025595479226995357, 0.030888435964774818,\n",
              "                    0.0372759372031494, 0.04498432668969444,\n",
              "                    0.054286754393238594, 0.0655128556859551,\n",
              "                    0.07906043210907697, 0.09540954763499938,\n",
              "                    0.1151395399326447, 0.13894954943731375,\n",
              "                    0.16768329368110074, 0.20235896477251566,\n",
              "                    0.2442053094548651, 0.29470517025518095,\n",
              "                    0.35564803062231287, 0.42919342601287763,\n",
              "                    0.517947467923121, 0.6250551925273969,\n",
              "                    0.7543120063354615, 0.9102981779915218,\n",
              "                    1.0985411419875584, 1.325711365590108,\n",
              "                    1.5998587196060574, 1.9306977288832496,\n",
              "                    2.329951810515372, 2.811768697974228,\n",
              "                    3.3932217718953264, 4.094915062380423,\n",
              "                    4.941713361323833, 5.963623316594643,\n",
              "                    7.196856730011514, 8.68511373751352,\n",
              "                    10.481131341546853, 12.648552168552959,\n",
              "                    15.264179671752318, 18.420699693267146,\n",
              "                    22.229964825261934, 26.826957952797247,\n",
              "                    32.374575428176435, 39.06939937054613,\n",
              "                    47.1486636345739, 56.89866029018293, 68.66488450042998,\n",
              "                    82.86427728546842, 100.0],\n",
              "              mask=[False, False, False, False, False, False, False, False,\n",
              "                    False, False, False, False, False, False, False, False,\n",
              "                    False, False, False, False, False, False, False, False,\n",
              "                    False, False, False, False, False, False, False, False,\n",
              "                    False, False, False, False, False, False, False, False,\n",
              "                    False, False, False, False, False, False, False, False,\n",
              "                    False, False],\n",
              "        fill_value='?',\n",
              "             dtype=object),\n",
              " 'params': [{'alpha': 0.01},\n",
              "  {'alpha': 0.012067926406393288},\n",
              "  {'alpha': 0.014563484775012436},\n",
              "  {'alpha': 0.017575106248547922},\n",
              "  {'alpha': 0.021209508879201904},\n",
              "  {'alpha': 0.025595479226995357},\n",
              "  {'alpha': 0.030888435964774818},\n",
              "  {'alpha': 0.0372759372031494},\n",
              "  {'alpha': 0.04498432668969444},\n",
              "  {'alpha': 0.054286754393238594},\n",
              "  {'alpha': 0.0655128556859551},\n",
              "  {'alpha': 0.07906043210907697},\n",
              "  {'alpha': 0.09540954763499938},\n",
              "  {'alpha': 0.1151395399326447},\n",
              "  {'alpha': 0.13894954943731375},\n",
              "  {'alpha': 0.16768329368110074},\n",
              "  {'alpha': 0.20235896477251566},\n",
              "  {'alpha': 0.2442053094548651},\n",
              "  {'alpha': 0.29470517025518095},\n",
              "  {'alpha': 0.35564803062231287},\n",
              "  {'alpha': 0.42919342601287763},\n",
              "  {'alpha': 0.517947467923121},\n",
              "  {'alpha': 0.6250551925273969},\n",
              "  {'alpha': 0.7543120063354615},\n",
              "  {'alpha': 0.9102981779915218},\n",
              "  {'alpha': 1.0985411419875584},\n",
              "  {'alpha': 1.325711365590108},\n",
              "  {'alpha': 1.5998587196060574},\n",
              "  {'alpha': 1.9306977288832496},\n",
              "  {'alpha': 2.329951810515372},\n",
              "  {'alpha': 2.811768697974228},\n",
              "  {'alpha': 3.3932217718953264},\n",
              "  {'alpha': 4.094915062380423},\n",
              "  {'alpha': 4.941713361323833},\n",
              "  {'alpha': 5.963623316594643},\n",
              "  {'alpha': 7.196856730011514},\n",
              "  {'alpha': 8.68511373751352},\n",
              "  {'alpha': 10.481131341546853},\n",
              "  {'alpha': 12.648552168552959},\n",
              "  {'alpha': 15.264179671752318},\n",
              "  {'alpha': 18.420699693267146},\n",
              "  {'alpha': 22.229964825261934},\n",
              "  {'alpha': 26.826957952797247},\n",
              "  {'alpha': 32.374575428176435},\n",
              "  {'alpha': 39.06939937054613},\n",
              "  {'alpha': 47.1486636345739},\n",
              "  {'alpha': 56.89866029018293},\n",
              "  {'alpha': 68.66488450042998},\n",
              "  {'alpha': 82.86427728546842},\n",
              "  {'alpha': 100.0}],\n",
              " 'split0_test_score': array([ 5.27139213e-01,  5.15341997e-01,  5.02204226e-01,  4.89533034e-01,\n",
              "         4.73637571e-01,  4.63936339e-01,  4.55180349e-01,  4.42857366e-01,\n",
              "         4.30184455e-01,  4.11489214e-01,  3.86784780e-01,  3.64194529e-01,\n",
              "         3.52173879e-01,  3.39735854e-01,  3.37647058e-01,  3.34682094e-01,\n",
              "         3.30457058e-01,  3.24416148e-01,  3.15753896e-01,  3.03302062e-01,\n",
              "         2.85365068e-01,  2.59480554e-01,  2.22070897e-01,  1.68015791e-01,\n",
              "         8.97393744e-02,  2.06828880e-03,  1.59662168e-03,  8.86198578e-04,\n",
              "        -1.76798427e-04, -4.04533521e-04, -4.04533521e-04, -4.04533521e-04,\n",
              "        -4.04533521e-04, -4.04533521e-04, -4.04533521e-04, -4.04533521e-04,\n",
              "        -4.04533521e-04, -4.04533521e-04, -4.04533521e-04, -4.04533521e-04,\n",
              "        -4.04533521e-04, -4.04533521e-04, -4.04533521e-04, -4.04533521e-04,\n",
              "        -4.04533521e-04, -4.04533521e-04, -4.04533521e-04, -4.04533521e-04,\n",
              "        -4.04533521e-04, -4.04533521e-04]),\n",
              " 'split1_test_score': array([ 5.25031588e-01,  5.13618521e-01,  4.99861069e-01,  4.86333882e-01,\n",
              "         4.70645201e-01,  4.59912832e-01,  4.50380061e-01,  4.36810410e-01,\n",
              "         4.21739199e-01,  4.00146578e-01,  3.70979855e-01,  3.46615712e-01,\n",
              "         3.35056957e-01,  3.22609679e-01,  3.20833077e-01,  3.18259511e-01,\n",
              "         3.14528139e-01,  3.09114039e-01,  3.01253453e-01,  2.89834939e-01,\n",
              "         2.73240891e-01,  2.49116759e-01,  2.14162767e-01,  1.63592217e-01,\n",
              "         8.99695132e-02,  3.16727469e-03,  2.44355515e-03,  1.42951290e-03,\n",
              "         9.20072342e-07, -4.43629257e-05, -4.43629257e-05, -4.43629257e-05,\n",
              "        -4.43629257e-05, -4.43629257e-05, -4.43629257e-05, -4.43629257e-05,\n",
              "        -4.43629257e-05, -4.43629257e-05, -4.43629257e-05, -4.43629257e-05,\n",
              "        -4.43629257e-05, -4.43629257e-05, -4.43629257e-05, -4.43629257e-05,\n",
              "        -4.43629257e-05, -4.43629257e-05, -4.43629257e-05, -4.43629257e-05,\n",
              "        -4.43629257e-05, -4.43629257e-05]),\n",
              " 'split2_test_score': array([ 5.47708163e-01,  5.36026990e-01,  5.22662299e-01,  5.09587167e-01,\n",
              "         4.93647191e-01,  4.82878952e-01,  4.73898252e-01,  4.60745396e-01,\n",
              "         4.46225391e-01,  4.25314867e-01,  3.96830607e-01,  3.72962256e-01,\n",
              "         3.60850800e-01,  3.48330125e-01,  3.46270739e-01,  3.43320936e-01,\n",
              "         3.39084583e-01,  3.32986891e-01,  3.24193310e-01,  3.11491521e-01,\n",
              "         2.93119678e-01,  2.66516396e-01,  2.27965207e-01,  1.72356829e-01,\n",
              "         9.16686292e-02,  3.45929138e-03,  2.60790054e-03,  1.45549640e-03,\n",
              "        -2.90423525e-05, -2.90423525e-05, -2.90423525e-05, -2.90423525e-05,\n",
              "        -2.90423525e-05, -2.90423525e-05, -2.90423525e-05, -2.90423525e-05,\n",
              "        -2.90423525e-05, -2.90423525e-05, -2.90423525e-05, -2.90423525e-05,\n",
              "        -2.90423525e-05, -2.90423525e-05, -2.90423525e-05, -2.90423525e-05,\n",
              "        -2.90423525e-05, -2.90423525e-05, -2.90423525e-05, -2.90423525e-05,\n",
              "        -2.90423525e-05, -2.90423525e-05]),\n",
              " 'split3_test_score': array([ 5.40993462e-01,  5.30797124e-01,  5.18743345e-01,  5.06797663e-01,\n",
              "         4.92201233e-01,  4.82298840e-01,  4.73232697e-01,  4.60406549e-01,\n",
              "         4.46793541e-01,  4.26796224e-01,  4.00289804e-01,  3.76984161e-01,\n",
              "         3.65263903e-01,  3.52823537e-01,  3.50621000e-01,  3.47495359e-01,\n",
              "         3.43042319e-01,  3.36676595e-01,  3.27550035e-01,  3.14432547e-01,\n",
              "         2.95538852e-01,  2.68276401e-01,  2.28940563e-01,  1.72335772e-01,\n",
              "         9.03414741e-02,  2.27447042e-03,  1.85113916e-03,  1.20707550e-03,\n",
              "         2.35852282e-04, -1.55727834e-05, -1.55727834e-05, -1.55727834e-05,\n",
              "        -1.55727834e-05, -1.55727834e-05, -1.55727834e-05, -1.55727834e-05,\n",
              "        -1.55727834e-05, -1.55727834e-05, -1.55727834e-05, -1.55727834e-05,\n",
              "        -1.55727834e-05, -1.55727834e-05, -1.55727834e-05, -1.55727834e-05,\n",
              "        -1.55727834e-05, -1.55727834e-05, -1.55727834e-05, -1.55727834e-05,\n",
              "        -1.55727834e-05, -1.55727834e-05]),\n",
              " 'split4_test_score': array([ 5.32671838e-01,  5.19783425e-01,  5.05595332e-01,  4.91791155e-01,\n",
              "         4.76396201e-01,  4.66073645e-01,  4.56293066e-01,  4.42662566e-01,\n",
              "         4.27735068e-01,  4.06372949e-01,  3.77847229e-01,  3.52628793e-01,\n",
              "         3.41953738e-01,  3.30109564e-01,  3.28601835e-01,  3.26311117e-01,\n",
              "         3.22860462e-01,  3.17696843e-01,  3.10009960e-01,  2.98613819e-01,\n",
              "         2.81774068e-01,  2.56956273e-01,  2.20480837e-01,  1.67230959e-01,\n",
              "         8.91706560e-02,  3.08102558e-03,  2.36889994e-03,  1.37852528e-03,\n",
              "        -7.41380080e-06, -3.82815323e-05, -3.82815323e-05, -3.82815323e-05,\n",
              "        -3.82815323e-05, -3.82815323e-05, -3.82815323e-05, -3.82815323e-05,\n",
              "        -3.82815323e-05, -3.82815323e-05, -3.82815323e-05, -3.82815323e-05,\n",
              "        -3.82815323e-05, -3.82815323e-05, -3.82815323e-05, -3.82815323e-05,\n",
              "        -3.82815323e-05, -3.82815323e-05, -3.82815323e-05, -3.82815323e-05,\n",
              "        -3.82815323e-05, -3.82815323e-05]),\n",
              " 'split5_test_score': array([ 5.33818827e-01,  5.21373297e-01,  5.07498827e-01,  4.94018367e-01,\n",
              "         4.78304388e-01,  4.67397052e-01,  4.57443906e-01,  4.43640130e-01,\n",
              "         4.28920754e-01,  4.07814127e-01,  3.81072122e-01,  3.58359740e-01,\n",
              "         3.46858428e-01,  3.35052244e-01,  3.33379267e-01,  3.30887892e-01,\n",
              "         3.27193281e-01,  3.21732631e-01,  3.13683464e-01,  3.01844550e-01,\n",
              "         2.84462346e-01,  2.58978102e-01,  2.21718060e-01,  1.67523973e-01,\n",
              "         8.83138527e-02,  3.00337940e-03,  2.32543003e-03,  1.37492189e-03,\n",
              "         3.50878295e-05, -1.18650458e-05, -1.18650458e-05, -1.18650458e-05,\n",
              "        -1.18650458e-05, -1.18650458e-05, -1.18650458e-05, -1.18650458e-05,\n",
              "        -1.18650458e-05, -1.18650458e-05, -1.18650458e-05, -1.18650458e-05,\n",
              "        -1.18650458e-05, -1.18650458e-05, -1.18650458e-05, -1.18650458e-05,\n",
              "        -1.18650458e-05, -1.18650458e-05, -1.18650458e-05, -1.18650458e-05,\n",
              "        -1.18650458e-05, -1.18650458e-05]),\n",
              " 'split6_test_score': array([ 5.21702998e-01,  5.09164768e-01,  4.94559631e-01,  4.80039327e-01,\n",
              "         4.63838963e-01,  4.52399631e-01,  4.41744577e-01,  4.27192372e-01,\n",
              "         4.11766247e-01,  3.89495256e-01,  3.61617746e-01,  3.36551640e-01,\n",
              "         3.25172867e-01,  3.13254604e-01,  3.12272126e-01,  3.10612438e-01,\n",
              "         3.07919167e-01,  3.03663528e-01,  2.97063612e-01,  2.86966434e-01,\n",
              "         2.71675650e-01,  2.48700028e-01,  2.14386423e-01,  1.63536429e-01,\n",
              "         8.83694156e-02,  1.28736340e-03,  1.08314311e-03,  7.00449507e-04,\n",
              "         4.02017675e-05, -2.65727012e-04, -2.65727012e-04, -2.65727012e-04,\n",
              "        -2.65727012e-04, -2.65727012e-04, -2.65727012e-04, -2.65727012e-04,\n",
              "        -2.65727012e-04, -2.65727012e-04, -2.65727012e-04, -2.65727012e-04,\n",
              "        -2.65727012e-04, -2.65727012e-04, -2.65727012e-04, -2.65727012e-04,\n",
              "        -2.65727012e-04, -2.65727012e-04, -2.65727012e-04, -2.65727012e-04,\n",
              "        -2.65727012e-04, -2.65727012e-04]),\n",
              " 'split7_test_score': array([ 5.38205521e-01,  5.25741236e-01,  5.11550205e-01,  4.97870339e-01,\n",
              "         4.82023319e-01,  4.71681029e-01,  4.62515434e-01,  4.49446162e-01,\n",
              "         4.34978928e-01,  4.14119478e-01,  3.85606652e-01,  3.60285650e-01,\n",
              "         3.48029319e-01,  3.35390775e-01,  3.33411684e-01,  3.30577815e-01,\n",
              "         3.26509093e-01,  3.20654069e-01,  3.12212134e-01,  3.00020339e-01,\n",
              "         2.82388656e-01,  2.56860208e-01,  2.19871353e-01,  1.66496446e-01,\n",
              "         8.90103059e-02,  2.03275809e-03,  1.66349570e-03,  1.07767260e-03,\n",
              "         1.66525572e-04, -1.03376764e-04, -1.03376764e-04, -1.03376764e-04,\n",
              "        -1.03376764e-04, -1.03376764e-04, -1.03376764e-04, -1.03376764e-04,\n",
              "        -1.03376764e-04, -1.03376764e-04, -1.03376764e-04, -1.03376764e-04,\n",
              "        -1.03376764e-04, -1.03376764e-04, -1.03376764e-04, -1.03376764e-04,\n",
              "        -1.03376764e-04, -1.03376764e-04, -1.03376764e-04, -1.03376764e-04,\n",
              "        -1.03376764e-04, -1.03376764e-04]),\n",
              " 'split8_test_score': array([ 5.31736375e-01,  5.19715396e-01,  5.06233954e-01,  4.93181882e-01,\n",
              "         4.77888384e-01,  4.67890201e-01,  4.58781295e-01,  4.45869950e-01,\n",
              "         4.31318674e-01,  4.10630535e-01,  3.83060482e-01,  3.59389569e-01,\n",
              "         3.49137137e-01,  3.37135798e-01,  3.35035241e-01,  3.32060900e-01,\n",
              "         3.27831565e-01,  3.21795682e-01,  3.13154376e-01,  3.00749488e-01,\n",
              "         2.82900707e-01,  2.57168607e-01,  2.20129485e-01,  1.66840588e-01,\n",
              "         8.96462822e-02,  2.48011770e-03,  1.99651035e-03,  1.28030973e-03,\n",
              "         2.22911472e-04, -4.91506095e-06, -4.91506095e-06, -4.91506095e-06,\n",
              "        -4.91506095e-06, -4.91506095e-06, -4.91506095e-06, -4.91506095e-06,\n",
              "        -4.91506095e-06, -4.91506095e-06, -4.91506095e-06, -4.91506095e-06,\n",
              "        -4.91506095e-06, -4.91506095e-06, -4.91506095e-06, -4.91506095e-06,\n",
              "        -4.91506095e-06, -4.91506095e-06, -4.91506095e-06, -4.91506095e-06,\n",
              "        -4.91506095e-06, -4.91506095e-06]),\n",
              " 'split9_test_score': array([ 5.33510396e-01,  5.23262961e-01,  5.11233162e-01,  4.99855574e-01,\n",
              "         4.85641336e-01,  4.75626137e-01,  4.67003288e-01,  4.54679471e-01,\n",
              "         4.41863638e-01,  4.22667810e-01,  3.96708133e-01,  3.72963994e-01,\n",
              "         3.60828511e-01,  3.48117838e-01,  3.46155633e-01,  3.43321071e-01,\n",
              "         3.39220829e-01,  3.33283080e-01,  3.24676232e-01,  3.12190642e-01,\n",
              "         2.94066378e-01,  2.67742462e-01,  2.29496155e-01,  1.74194056e-01,\n",
              "         9.37749186e-02,  2.50680028e-03,  2.02193915e-03,  1.29608147e-03,\n",
              "         2.15168652e-04, -3.31356834e-05, -3.31356834e-05, -3.31356834e-05,\n",
              "        -3.31356834e-05, -3.31356834e-05, -3.31356834e-05, -3.31356834e-05,\n",
              "        -3.31356834e-05, -3.31356834e-05, -3.31356834e-05, -3.31356834e-05,\n",
              "        -3.31356834e-05, -3.31356834e-05, -3.31356834e-05, -3.31356834e-05,\n",
              "        -3.31356834e-05, -3.31356834e-05, -3.31356834e-05, -3.31356834e-05,\n",
              "        -3.31356834e-05, -3.31356834e-05]),\n",
              " 'mean_test_score': array([ 5.33251838e-01,  5.21482572e-01,  5.08014205e-01,  4.94900839e-01,\n",
              "         4.79422379e-01,  4.69009466e-01,  4.59647292e-01,  4.46431037e-01,\n",
              "         4.32152589e-01,  4.11484704e-01,  3.84079741e-01,  3.60093604e-01,\n",
              "         3.48532554e-01,  3.36256002e-01,  3.34422766e-01,  3.31752913e-01,\n",
              "         3.27864650e-01,  3.22201950e-01,  3.13955047e-01,  3.01944634e-01,\n",
              "         2.84453229e-01,  2.58979579e-01,  2.21922175e-01,  1.68212306e-01,\n",
              "         9.00004422e-02,  2.53607697e-03,  1.99586348e-03,  1.20862439e-03,\n",
              "         7.03413068e-05, -9.50812681e-05, -9.50812681e-05, -9.50812681e-05,\n",
              "        -9.50812681e-05, -9.50812681e-05, -9.50812681e-05, -9.50812681e-05,\n",
              "        -9.50812681e-05, -9.50812681e-05, -9.50812681e-05, -9.50812681e-05,\n",
              "        -9.50812681e-05, -9.50812681e-05, -9.50812681e-05, -9.50812681e-05,\n",
              "        -9.50812681e-05, -9.50812681e-05, -9.50812681e-05, -9.50812681e-05,\n",
              "        -9.50812681e-05, -9.50812681e-05]),\n",
              " 'std_test_score': array([0.00731294, 0.00759544, 0.00801927, 0.00852681, 0.00881584,\n",
              "        0.00903732, 0.00945086, 0.00987473, 0.01035984, 0.01100064,\n",
              "        0.01148718, 0.01195198, 0.01170511, 0.01152873, 0.01123616,\n",
              "        0.0108852 , 0.01046398, 0.00995775, 0.00934769, 0.00860896,\n",
              "        0.00770763, 0.00659608, 0.00519325, 0.00345647, 0.0015657 ,\n",
              "        0.00062209, 0.00044129, 0.0002363 , 0.0001284 , 0.00012662,\n",
              "        0.00012662, 0.00012662, 0.00012662, 0.00012662, 0.00012662,\n",
              "        0.00012662, 0.00012662, 0.00012662, 0.00012662, 0.00012662,\n",
              "        0.00012662, 0.00012662, 0.00012662, 0.00012662, 0.00012662,\n",
              "        0.00012662, 0.00012662, 0.00012662, 0.00012662, 0.00012662]),\n",
              " 'rank_test_score': array([ 1,  2,  3,  4,  5,  6,  7,  8,  9, 10, 11, 12, 13, 14, 15, 16, 17,\n",
              "        18, 19, 20, 21, 22, 23, 24, 25, 26, 27, 28, 29, 30, 30, 30, 30, 30,\n",
              "        30, 30, 30, 30, 30, 30, 30, 30, 30, 30, 30, 30, 30, 30, 30, 30])}"
            ]
          },
          "metadata": {
            "tags": []
          },
          "execution_count": 47
        }
      ]
    },
    {
      "cell_type": "code",
      "metadata": {
        "id": "DMgn38xvfXfZ"
      },
      "source": [
        "pca0 = PCA()\n",
        "pca0.fit(r_train_df)\n",
        "X_train = pca0.transform(r_train_df)\n",
        "y_train = train_df['log_price']\n",
        "\n",
        "X_test = pca0.transform(r_test_df)"
      ],
      "execution_count": null,
      "outputs": []
    },
    {
      "cell_type": "code",
      "metadata": {
        "id": "-fOVyVwAfXfh"
      },
      "source": [
        "lasso = Lasso(0.0001)\n",
        "lasso.fit(X_train, y_train)\n",
        "\n",
        "# Prices predicted for test dataset is given by 'price_predicted'\n",
        "price_predicted = lasso.predict(X_test)"
      ],
      "execution_count": null,
      "outputs": []
    },
    {
      "cell_type": "code",
      "metadata": {
        "id": "-db0QZn3fXfm",
        "outputId": "175aa299-a10c-455e-d940-b494309ef734"
      },
      "source": [
        "print(price_predicted)"
      ],
      "execution_count": null,
      "outputs": [
        {
          "output_type": "stream",
          "text": [
            "[4.4240304  4.91021681 4.48167154 ... 5.21379259 4.85883573 5.21390811]\n"
          ],
          "name": "stdout"
        }
      ]
    },
    {
      "cell_type": "code",
      "metadata": {
        "id": "mv5l2PLvfXfr"
      },
      "source": [
        "pred= pd.DataFrame(price_predicted,columns=['log_price'])"
      ],
      "execution_count": null,
      "outputs": []
    },
    {
      "cell_type": "code",
      "metadata": {
        "id": "jMZLq9ttfXf0",
        "outputId": "c4105c2a-3e0a-4a5a-d8b7-85a6903c7d3e"
      },
      "source": [
        "pred"
      ],
      "execution_count": null,
      "outputs": [
        {
          "output_type": "execute_result",
          "data": {
            "text/html": [
              "<div>\n",
              "<style scoped>\n",
              "    .dataframe tbody tr th:only-of-type {\n",
              "        vertical-align: middle;\n",
              "    }\n",
              "\n",
              "    .dataframe tbody tr th {\n",
              "        vertical-align: top;\n",
              "    }\n",
              "\n",
              "    .dataframe thead th {\n",
              "        text-align: right;\n",
              "    }\n",
              "</style>\n",
              "<table border=\"1\" class=\"dataframe\">\n",
              "  <thead>\n",
              "    <tr style=\"text-align: right;\">\n",
              "      <th></th>\n",
              "      <th>log_price</th>\n",
              "    </tr>\n",
              "  </thead>\n",
              "  <tbody>\n",
              "    <tr>\n",
              "      <th>0</th>\n",
              "      <td>4.424030</td>\n",
              "    </tr>\n",
              "    <tr>\n",
              "      <th>1</th>\n",
              "      <td>4.910217</td>\n",
              "    </tr>\n",
              "    <tr>\n",
              "      <th>2</th>\n",
              "      <td>4.481672</td>\n",
              "    </tr>\n",
              "    <tr>\n",
              "      <th>3</th>\n",
              "      <td>4.231582</td>\n",
              "    </tr>\n",
              "    <tr>\n",
              "      <th>4</th>\n",
              "      <td>5.087600</td>\n",
              "    </tr>\n",
              "    <tr>\n",
              "      <th>...</th>\n",
              "      <td>...</td>\n",
              "    </tr>\n",
              "    <tr>\n",
              "      <th>24106</th>\n",
              "      <td>4.401250</td>\n",
              "    </tr>\n",
              "    <tr>\n",
              "      <th>24107</th>\n",
              "      <td>5.071302</td>\n",
              "    </tr>\n",
              "    <tr>\n",
              "      <th>24108</th>\n",
              "      <td>5.213793</td>\n",
              "    </tr>\n",
              "    <tr>\n",
              "      <th>24109</th>\n",
              "      <td>4.858836</td>\n",
              "    </tr>\n",
              "    <tr>\n",
              "      <th>24110</th>\n",
              "      <td>5.213908</td>\n",
              "    </tr>\n",
              "  </tbody>\n",
              "</table>\n",
              "<p>24111 rows × 1 columns</p>\n",
              "</div>"
            ],
            "text/plain": [
              "       log_price\n",
              "0       4.424030\n",
              "1       4.910217\n",
              "2       4.481672\n",
              "3       4.231582\n",
              "4       5.087600\n",
              "...          ...\n",
              "24106   4.401250\n",
              "24107   5.071302\n",
              "24108   5.213793\n",
              "24109   4.858836\n",
              "24110   5.213908\n",
              "\n",
              "[24111 rows x 1 columns]"
            ]
          },
          "metadata": {
            "tags": []
          },
          "execution_count": 53
        }
      ]
    },
    {
      "cell_type": "code",
      "metadata": {
        "id": "f8qB273tfXf5"
      },
      "source": [
        "pred.to_csv('submission.csv',index_label='id')"
      ],
      "execution_count": null,
      "outputs": []
    },
    {
      "cell_type": "code",
      "metadata": {
        "id": "dVt09mLBfXf-"
      },
      "source": [
        ""
      ],
      "execution_count": null,
      "outputs": []
    }
  ]
}